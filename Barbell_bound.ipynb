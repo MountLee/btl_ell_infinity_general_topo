{
 "cells": [
  {
   "cell_type": "code",
   "execution_count": 1,
   "metadata": {},
   "outputs": [],
   "source": [
    "import numpy as np\n",
    "import matplotlib.pyplot as plt\n",
    "import scipy.stats as stats\n",
    "import random\n",
    "\n",
    "import bt_mle_utils as mle\n",
    "from simulation_utils import *"
   ]
  },
  {
   "cell_type": "markdown",
   "metadata": {},
   "source": [
    "## Barbell"
   ]
  },
  {
   "cell_type": "code",
   "execution_count": 2,
   "metadata": {
    "scrolled": true
   },
   "outputs": [
    {
     "data": {
      "text/plain": [
       "10.0"
      ]
     },
     "execution_count": 2,
     "metadata": {},
     "output_type": "execute_result"
    }
   ],
   "source": [
    "E = random_edge(5,5,10)\n",
    "np.sum(E)"
   ]
  },
  {
   "cell_type": "code",
   "execution_count": 3,
   "metadata": {
    "scrolled": false
   },
   "outputs": [
    {
     "data": {
      "text/plain": [
       "array([[0., 1., 1., 0., 1., 0., 0., 0.],\n",
       "       [1., 0., 1., 0., 0., 0., 0., 0.],\n",
       "       [1., 1., 0., 0., 0., 0., 0., 0.],\n",
       "       [0., 0., 0., 0., 1., 1., 1., 1.],\n",
       "       [1., 0., 0., 1., 0., 1., 1., 1.],\n",
       "       [0., 0., 0., 1., 1., 0., 1., 1.],\n",
       "       [0., 0., 0., 1., 1., 1., 0., 1.],\n",
       "       [0., 0., 0., 1., 1., 1., 1., 0.]])"
      ]
     },
     "execution_count": 3,
     "metadata": {},
     "output_type": "execute_result"
    }
   ],
   "source": [
    "A = get_barbell_adj(n1 = 3, n2 = 5, bridge = 1)\n",
    "A"
   ]
  },
  {
   "cell_type": "code",
   "execution_count": 4,
   "metadata": {},
   "outputs": [],
   "source": [
    "n1, n2 = 50, 50\n",
    "bridge_list = np.arange(50) * 50\n",
    "lam2_list = []\n",
    "min_n_ij_list = []\n",
    "B = 10\n",
    "for bridge in bridge_list:\n",
    "    lam, n_ij = 0, 0\n",
    "    for b in range(B):\n",
    "        A = get_barbell_adj(n1 = n1, n2 = n2, bridge = bridge)\n",
    "        lam2, lamn = lambda2_A(A)\n",
    "        lam += lam2 / B\n",
    "        n_ij += min_n_ij(A) / B\n",
    "    lam2_list.append(lam)\n",
    "    min_n_ij_list.append(n_ij)\n",
    "lam2_list = np.array(lam2_list)\n",
    "min_n_ij_list = np.array(min_n_ij_list)"
   ]
  },
  {
   "cell_type": "code",
   "execution_count": 5,
   "metadata": {
    "scrolled": false
   },
   "outputs": [
    {
     "data": {
      "text/plain": [
       "<matplotlib.legend.Legend at 0x120980cc4c8>"
      ]
     },
     "execution_count": 5,
     "metadata": {},
     "output_type": "execute_result"
    },
    {
     "data": {
      "image/png": "[encoded data removed]",
      "text/plain": [
       "<Figure size 432x288 with 1 Axes>"
      ]
     },
     "metadata": {
      "needs_background": "light"
     },
     "output_type": "display_data"
    }
   ],
   "source": [
    "plt.plot(bridge_list / (n1 * n2), lam2_list)\n",
    "plt.plot(bridge_list / (n1 * n2), min_n_ij_list)\n",
    "plt.legend(['lam2','min_n_ij'])"
   ]
  },
  {
   "cell_type": "code",
   "execution_count": 6,
   "metadata": {},
   "outputs": [],
   "source": [
    "import time"
   ]
  },
  {
   "cell_type": "code",
   "execution_count": 7,
   "metadata": {
    "scrolled": false
   },
   "outputs": [
    {
     "name": "stdout",
     "output_type": "stream",
     "text": [
      "50\n",
      "time:  3.2408294677734375\n",
      "75\n",
      "time:  6.711276531219482\n",
      "100\n",
      "time:  13.030782222747803\n",
      "200\n",
      "time:  63.978870153427124\n",
      "300\n",
      "time:  165.86951088905334\n",
      "400\n",
      "time:  224.69655060768127\n",
      "600\n",
      "time:  506.4563534259796\n",
      "800\n",
      "time:  951.3588852882385\n",
      "1000\n",
      "time:  1428.628748178482\n"
     ]
    }
   ],
   "source": [
    "ns_list = np.array([50, 75, 100, 200, 300, 400, 600, 800, 1000])\n",
    "\n",
    "m = len(ns_list)\n",
    "B = 100\n",
    "\n",
    "lam2_list = np.zeros(m)\n",
    "min_n_ij_list = np.zeros(m)\n",
    "n_max_list = np.zeros(m)\n",
    "n_min_list = np.zeros(m)\n",
    "\n",
    "bound_yan_list = np.zeros(m)\n",
    "bound_shah_list = np.zeros(m)\n",
    "bound_our_list = np.zeros(m)\n",
    "ratio_list = np.zeros(m)\n",
    "\n",
    "\n",
    "bound_yan_mat = np.zeros((m,B))\n",
    "bound_shah_mat = np.zeros((m,B))\n",
    "bound_our_mat = np.zeros((m,B))\n",
    "ratio_mat = np.zeros((m,B))\n",
    "\n",
    "np.random.seed(0)\n",
    "\n",
    "for ix, ns in enumerate(ns_list):\n",
    "    st = time.time()\n",
    "    n1, n2 = ns, ns\n",
    "    n = n1 + n2\n",
    "\n",
    "    # delta = np.log(n) / n\n",
    "    k = 10\n",
    "    t = 0.7\n",
    "    kappa = np.log(t / (1 - t))\n",
    "    delta = 1\n",
    "    beta = get_beta_with_gap(n, delta)\n",
    "    beta *= kappa / (np.max(beta) - np.min(beta))\n",
    "    total = 10\n",
    "\n",
    "    p_bridge = 3 * np.log(n1) / n1\n",
    "    bridge = int(ns**2 * p_bridge)\n",
    "    lam, n_ij = 0, 0\n",
    "    \n",
    "    lam2_, n_ij_, n_max_, n_min_ = np.zeros(B), np.zeros(B), np.zeros(B), np.zeros(B)\n",
    "    bound_yan_, bound_shah_, bound_our_ = np.zeros(B), np.zeros(B), np.zeros(B)\n",
    "    ratio_ = np.zeros(B)\n",
    "  \n",
    "    for b in range(B):\n",
    "        A = get_barbell_adj(n1 = n1, n2 = n2, bridge = bridge)\n",
    "        lam2_[b], n_ij_[b], n_max_[b], n_min_[b] = get_topo(A)\n",
    "        \n",
    "        edge_list = get_edge(A)\n",
    "        game_matrix = get_game_matrix(beta, edge_list, total)\n",
    "                \n",
    "        L = total\n",
    "        bound_yan_[b] = get_bound_yan(kappa, n_ij_[b], n, L = total)\n",
    "        bound_shah_[b] = get_bound_shah(kappa, lam2_[b], n, L = total)\n",
    "        bound_our_[b] = get_bound_our(kappa, lam2_[b], n_max_[b], n_min_[b], n, L) \n",
    "        ratio_[b] = bound_our_[b] / bound_yan_[b]\n",
    "        \n",
    "        bound_yan_mat[ix,b] = (bound_yan_[b])\n",
    "        bound_shah_mat[ix,b] = (bound_shah_[b])\n",
    "        bound_our_mat[ix,b] = (bound_our_[b])\n",
    "        ratio_mat[ix,b] = (ratio_[b])\n",
    "          \n",
    "    lam2_list[ix] = np.mean(lam2_)\n",
    "    min_n_ij_list[ix] = np.mean(n_ij_)\n",
    "    n_max_list[ix], n_min_list[ix] = np.mean(n_max_), np.mean(n_min_)\n",
    "    bound_yan_list[ix] = np.mean(bound_yan_)\n",
    "    bound_shah_list[ix] = np.mean(bound_shah_)\n",
    "    bound_our_list[ix] = np.mean(bound_our_)\n",
    "    ratio_list[ix] = np.mean(ratio_)\n",
    "    \n",
    "    print(ns)\n",
    "    print('time: ', str(time.time() - st))"
   ]
  },
  {
   "cell_type": "code",
   "execution_count": 8,
   "metadata": {},
   "outputs": [
    {
     "data": {
      "image/png": "[encoded data removed]",
      "text/plain": [
       "<Figure size 432x288 with 1 Axes>"
      ]
     },
     "metadata": {
      "needs_background": "light"
     },
     "output_type": "display_data"
    }
   ],
   "source": [
    "plt.plot(ns_list, bound_our_list / bound_yan_list)\n",
    "plt.xlabel('n')\n",
    "plt.ylabel('ratio')\n",
    "plt.yscale('log')"
   ]
  },
  {
   "cell_type": "code",
   "execution_count": 9,
   "metadata": {},
   "outputs": [
    {
     "data": {
      "image/png": "[encoded data removed]",
      "text/plain": [
       "<Figure size 432x288 with 1 Axes>"
      ]
     },
     "metadata": {
      "needs_background": "light"
     },
     "output_type": "display_data"
    }
   ],
   "source": [
    "plt.plot(ns_list, ratio_list)\n",
    "# plt.fill_between(ns_list, np.quantile(ratio_mat, 0.9, axis = 1), np.quantile(ratio_mat, 0.1, axis = 1), alpha = 0.2)\n",
    "plt.fill_between(ns_list, ratio_list - np.std(ratio_mat, axis = 1), \n",
    "                 ratio_list + np.std(ratio_mat, axis = 1), alpha = 0.2)\n",
    "plt.xlabel('subgraph size')\n",
    "plt.ylabel('ratio: ours/yan')\n",
    "# plt.yscale('log')\n",
    "plt.savefig(\"barbell_ratio.pdf\", bbox_inches = 'tight')"
   ]
  },
  {
   "cell_type": "code",
   "execution_count": 10,
   "metadata": {},
   "outputs": [],
   "source": [
    "import pickle\n",
    "with open('barbell_ns_list' + '_p_bridge_' + str(p_bridge) + 'trial' + str(B) + '.pickle', 'wb') as f:\n",
    "    pickle.dump([ratio_list, ratio_mat, bound_our_list, bound_our_mat, bound_yan_list, bound_yan_mat,\n",
    "                bound_shah_list, bound_shah_mat], f)"
   ]
  }
 ],
 "metadata": {
  "kernelspec": {
   "display_name": "Python 3",
   "language": "python",
   "name": "python3"
  },
  "language_info": {
   "codemirror_mode": {
    "name": "ipython",
    "version": 3
   },
   "file_extension": ".py",
   "mimetype": "text/x-python",
   "name": "python",
   "nbconvert_exporter": "python",
   "pygments_lexer": "ipython3",
   "version": "3.7.4"
  }
 },
 "nbformat": 4,
 "nbformat_minor": 2
}
