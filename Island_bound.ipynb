{
 "cells": [
  {
   "cell_type": "code",
   "execution_count": 1,
   "metadata": {},
   "outputs": [],
   "source": [
    "import numpy as np\n",
    "import matplotlib.pyplot as plt\n",
    "import scipy.stats as stats\n",
    "import random\n",
    "\n",
    "import bt_mle_utils as mle\n",
    "from simulation_utils import *"
   ]
  },
  {
   "cell_type": "markdown",
   "metadata": {},
   "source": [
    "# Island graph"
   ]
  },
  {
   "cell_type": "code",
   "execution_count": 3,
   "metadata": {
    "scrolled": true
   },
   "outputs": [
    {
     "data": {
      "image/png": "[encoded data removed]",
      "text/plain": [
       "<Figure size 432x288 with 1 Axes>"
      ]
     },
     "metadata": {
      "needs_background": "light"
     },
     "output_type": "display_data"
    }
   ],
   "source": [
    "A = get_3island_adj()\n",
    "plt.imshow(A, cmap = 'Blues')\n",
    "plt.savefig('adj_3island.pdf')"
   ]
  },
  {
   "cell_type": "code",
   "execution_count": 4,
   "metadata": {},
   "outputs": [
    {
     "data": {
      "text/plain": [
       "0.0"
      ]
     },
     "execution_count": 4,
     "metadata": {},
     "output_type": "execute_result"
    }
   ],
   "source": [
    "min_n_ij(A)"
   ]
  },
  {
   "cell_type": "code",
   "execution_count": 5,
   "metadata": {
    "scrolled": true
   },
   "outputs": [
    {
     "data": {
      "text/plain": [
       "11.921134470680464"
      ]
     },
     "execution_count": 5,
     "metadata": {},
     "output_type": "execute_result"
    }
   ],
   "source": [
    "lam2, lamn = lambda2_A(A)\n",
    "lam2"
   ]
  },
  {
   "cell_type": "code",
   "execution_count": 7,
   "metadata": {
    "scrolled": true
   },
   "outputs": [
    {
     "data": {
      "image/png": "[encoded data removed]",
      "text/plain": [
       "<Figure size 432x288 with 1 Axes>"
      ]
     },
     "metadata": {
      "needs_background": "light"
     },
     "output_type": "display_data"
    }
   ],
   "source": [
    "A = get_island_adj(n = 120)\n",
    "plt.imshow(A, cmap = 'Blues')\n",
    "plt.savefig('adj_island.pdf')"
   ]
  },
  {
   "cell_type": "code",
   "execution_count": 235,
   "metadata": {
    "scrolled": true
   },
   "outputs": [
    {
     "data": {
      "text/plain": [
       "0.0"
      ]
     },
     "execution_count": 235,
     "metadata": {},
     "output_type": "execute_result"
    }
   ],
   "source": [
    "min_n_ij(A)"
   ]
  },
  {
   "cell_type": "code",
   "execution_count": 236,
   "metadata": {
    "scrolled": false
   },
   "outputs": [
    {
     "data": {
      "text/plain": [
       "1.1929892762754417"
      ]
     },
     "execution_count": 236,
     "metadata": {},
     "output_type": "execute_result"
    }
   ],
   "source": [
    "lam2, lamn = lambda2_A(A)\n",
    "lam2"
   ]
  },
  {
   "cell_type": "code",
   "execution_count": 10,
   "metadata": {
    "scrolled": true
   },
   "outputs": [
    {
     "name": "stdout",
     "output_type": "stream",
     "text": [
      "1\n",
      "2\n",
      "4\n",
      "8\n",
      "12\n",
      "16\n",
      "20\n"
     ]
    }
   ],
   "source": [
    "ni = 30\n",
    "# bridge_list = np.arange(m) * 50\n",
    "theta_list = np.array([1,2,4,8,12,16,20])\n",
    "m = len(theta_list)\n",
    "B = 20\n",
    "\n",
    "lam2_list = np.zeros(m)\n",
    "min_n_ij_list = np.zeros(m)\n",
    "n_max_list = np.zeros(m)\n",
    "n_min_list = np.zeros(m)\n",
    "\n",
    "bound_yan_list = np.zeros(m)\n",
    "bound_shah_list = np.zeros(m)\n",
    "bound_our_list = np.zeros(m)\n",
    "bound_yan_nk_list = np.zeros(m)\n",
    "bound_shah_nk_list = np.zeros(m)\n",
    "bound_our_nk_list = np.zeros(m)\n",
    "\n",
    "std_yan_list = np.zeros(m)\n",
    "std_shah_list = np.zeros(m)\n",
    "std_our_list = np.zeros(m)\n",
    "std_yan_nk_list = np.zeros(m)\n",
    "std_shah_nk_list = np.zeros(m)\n",
    "std_our_nk_list = np.zeros(m)\n",
    "\n",
    "bar_yan_list = np.zeros((m,2))\n",
    "bar_shah_list = np.zeros((m,2))\n",
    "bar_our_list = np.zeros((m,2))\n",
    "bar_yan_nk_list = np.zeros((m,2))\n",
    "bar_shah_nk_list = np.zeros((m,2))\n",
    "bar_our_nk_list = np.zeros((m,2))\n",
    "\n",
    "bound_our_e_list = np.zeros(m)\n",
    "std_our_e_list = np.zeros(m)\n",
    "bar_our_e_list = np.zeros((m,2))\n",
    "\n",
    "n = 100\n",
    "# delta = np.log(n) / n\n",
    "t = 0.9\n",
    "kappa = np.log(t / (1 - t))\n",
    "delta = 1\n",
    "beta = get_beta_with_gap(n, delta)\n",
    "beta *= kappa / (np.max(beta) - np.min(beta))\n",
    "total = 5\n",
    "kappa_E = kappa * ni / n\n",
    "\n",
    "\n",
    "l_infty_beta_list = np.zeros(m)\n",
    "std_l_infty_beta_list = np.zeros(m)\n",
    "bar_l_infty_beta_list = np.zeros((m,2))\n",
    "rank_beta_list = np.zeros(m)\n",
    "topk_beta_list = np.zeros(m)\n",
    "\n",
    "np.random.seed(0)\n",
    "\n",
    "for ix, theta in enumerate(theta_list):\n",
    "    lam, n_ij = 0, 0\n",
    "    \n",
    "    l_infty_beta_, rank_beta_, topk_beta_ = np.zeros(B), np.zeros(B), np.zeros(B)\n",
    "    lam2_, n_ij_, n_max_, n_min_ = np.zeros(B), np.zeros(B), np.zeros(B), np.zeros(B)\n",
    "    bound_yan_, bound_shah_, bound_our_ = np.zeros(B), np.zeros(B), np.zeros(B)\n",
    "    bound_yan_nk_, bound_shah_nk_, bound_our_nk_ = np.zeros(B), np.zeros(B), np.zeros(B)\n",
    "    bound_our_e_ = np.zeros(B)\n",
    "    \n",
    "    for b in range(B):\n",
    "        A = get_island_adj(ni = ni, no = theta, n = n)\n",
    "        lam2_[b], n_ij_[b], n_max_[b], n_min_[b] = get_topo(A)\n",
    "        \n",
    "        edge_list = get_edge(A)\n",
    "        game_matrix = get_game_matrix(beta, edge_list, total)\n",
    "        \n",
    "        beta_hat = get_mle_reg(game_matrix)\n",
    "        l_infty_beta_[b], rank_beta_[b], topk_beta_[b] = get_error(beta, beta_hat, k = 10)\n",
    "        \n",
    "        L = total\n",
    "#         bound_yan_[b] = get_bound_yan(kappa, n_ij_[b], n, L = total)\n",
    "        bound_shah_[b] = get_bound_shah(kappa, lam2_[b], n, L = total)\n",
    "        bound_our_[b] = get_bound_our(kappa, lam2_[b], n_max_[b], n_min_[b], n, L)\n",
    "        bound_our_e_[b] = get_bound_our(kappa_E, lam2_[b], n_max_[b], n_min_[b], n, L)\n",
    "        \n",
    "#         bound_yan_nk_[b] = get_bound_yan(kappa, n_ij_[b], n, L = total, no_kappa = True)\n",
    "        bound_shah_nk_[b] = get_bound_shah(kappa, lam2_[b], n, L = total, no_kappa = True)\n",
    "        bound_our_nk_[b] = get_bound_our(kappa, lam2_[b], n_max_[b], n_min_[b], n, L, no_kappa = True)\n",
    "                \n",
    "        \n",
    "    lam2_list[ix] = np.mean(lam2_)\n",
    "    min_n_ij_list[ix] = np.mean(n_ij_)\n",
    "    n_max_list[ix], n_min_list[ix] = np.mean(n_max_), np.mean(n_min_)\n",
    "#     bound_yan_list[ix] = np.mean(bound_yan_)\n",
    "    bound_shah_list[ix] = np.mean(bound_shah_)\n",
    "    bound_our_list[ix] = np.mean(bound_our_)\n",
    "    bound_our_e_list[ix] = np.mean(bound_our_e_)\n",
    "#     bound_yan_nk_list[ix] = np.mean(bound_yan_nk_)\n",
    "    bound_shah_nk_list[ix] = np.mean(bound_shah_nk_)\n",
    "    bound_our_nk_list[ix] = np.mean(bound_our_nk_)\n",
    "    \n",
    "#     std_yan_list[ix] = np.std(bound_yan_)\n",
    "    std_shah_list[ix] = np.std(bound_shah_)\n",
    "    std_our_list[ix] = np.std(bound_our_)\n",
    "    std_our_e_list[ix] = np.std(bound_our_e_)\n",
    "#     std_yan_nk_list[ix] = np.std(bound_yan_nk_)\n",
    "    std_shah_nk_list[ix] = np.std(bound_shah_nk_)\n",
    "    std_our_nk_list[ix] = np.std(bound_our_nk_)\n",
    "    \n",
    "#     bar_yan_list[ix,:] = np.quantile(bound_yan_, 0.05), np.quantile(bound_yan_, 0.95)\n",
    "    bar_shah_list[ix, :] = np.quantile(bound_shah_, 0.05), np.quantile(bound_shah_, 0.95)\n",
    "    bar_our_list[ix, :] = np.quantile(bound_our_, 0.05), np.quantile(bound_our_, 0.95)\n",
    "    bar_our_e_list[ix, :] = np.quantile(bound_our_e_, 0.05), np.quantile(bound_our_e_, 0.95)\n",
    "#     bar_yan_nk_list[ix, :] = np.quantile(bound_yan_nk_, 0.05), np.quantile(bound_yan_nk_, 0.95)\n",
    "    bar_shah_nk_list[ix, :] = np.quantile(bound_shah_nk_, 0.05), np.quantile(bound_shah_nk_, 0.95)\n",
    "    bar_our_nk_list[ix, :] = np.quantile(bound_our_nk_, 0.05), np.quantile(bound_our_nk_, 0.95)\n",
    "    \n",
    "    l_infty_beta_list[ix] = np.mean(l_infty_beta_)\n",
    "    std_l_infty_beta_list[ix] = np.std(l_infty_beta_)\n",
    "    bar_l_infty_beta_list[ix, :] = np.quantile(l_infty_beta_, 0.05), np.quantile(l_infty_beta_, 0.95)\n",
    "    \n",
    "    rank_beta_list = np.mean(rank_beta_)\n",
    "    topk_beta_list = np.mean(topk_beta_)    \n",
    "    \n",
    "    print(theta)"
   ]
  },
  {
   "cell_type": "code",
   "execution_count": 17,
   "metadata": {},
   "outputs": [
    {
     "data": {
      "text/plain": [
       "<matplotlib.image.AxesImage at 0x2c3178ae4c8>"
      ]
     },
     "execution_count": 17,
     "metadata": {},
     "output_type": "execute_result"
    },
    {
     "data": {
      "image/png": "[encoded data removed]",
      "text/plain": [
       "<Figure size 432x288 with 1 Axes>"
      ]
     },
     "metadata": {
      "needs_background": "light"
     },
     "output_type": "display_data"
    }
   ],
   "source": [
    "plt.imshow(A, cmap = 'Blues')"
   ]
  },
  {
   "cell_type": "code",
   "execution_count": 12,
   "metadata": {},
   "outputs": [
    {
     "data": {
      "text/plain": [
       "[<matplotlib.lines.Line2D at 0x2c3177848c8>]"
      ]
     },
     "execution_count": 12,
     "metadata": {},
     "output_type": "execute_result"
    },
    {
     "data": {
      "image/png": "[encoded data removed]",
      "text/plain": [
       "<Figure size 432x288 with 1 Axes>"
      ]
     },
     "metadata": {
      "needs_background": "light"
     },
     "output_type": "display_data"
    }
   ],
   "source": [
    "plt.plot(n_max_list / n_min_list)"
   ]
  },
  {
   "cell_type": "code",
   "execution_count": 13,
   "metadata": {
    "scrolled": true
   },
   "outputs": [
    {
     "data": {
      "image/png": "[encoded data removed]",
      "text/plain": [
       "<Figure size 432x288 with 1 Axes>"
      ]
     },
     "metadata": {
      "needs_background": "light"
     },
     "output_type": "display_data"
    }
   ],
   "source": [
    "# plt.fill_between(bridge_list / (n1 * n2), l_infty_beta_list - 2*std_l_infty_beta_list, l_infty_beta_list + 2*std_l_infty_beta_list, alpha = 0.2)\n",
    "plt.fill_between(theta_list, bar_l_infty_beta_list[:,0], bar_l_infty_beta_list[:,1], alpha = 0.2)\n",
    "plt.plot(theta_list, l_infty_beta_list)\n",
    "plt.xlabel('overlap')\n",
    "plt.ylabel('l-infinity error')\n",
    "plt.savefig('real_island.pdf')"
   ]
  },
  {
   "cell_type": "code",
   "execution_count": 14,
   "metadata": {},
   "outputs": [
    {
     "data": {
      "text/plain": [
       "1.1051709180756477"
      ]
     },
     "execution_count": 14,
     "metadata": {},
     "output_type": "execute_result"
    }
   ],
   "source": [
    "np.exp(0.1)"
   ]
  },
  {
   "cell_type": "code",
   "execution_count": 15,
   "metadata": {},
   "outputs": [
    {
     "data": {
      "text/plain": [
       "9.000000000000002"
      ]
     },
     "execution_count": 15,
     "metadata": {},
     "output_type": "execute_result"
    }
   ],
   "source": [
    "np.exp(kappa)"
   ]
  },
  {
   "cell_type": "code",
   "execution_count": 16,
   "metadata": {},
   "outputs": [
    {
     "data": {
      "text/plain": [
       "[<matplotlib.lines.Line2D at 0x2c31784cb48>]"
      ]
     },
     "execution_count": 16,
     "metadata": {},
     "output_type": "execute_result"
    },
    {
     "data": {
      "image/png": "[encoded data removed]",
      "text/plain": [
       "<Figure size 432x288 with 1 Axes>"
      ]
     },
     "metadata": {
      "needs_background": "light"
     },
     "output_type": "display_data"
    }
   ],
   "source": [
    "plt.plot(l_infty_beta_list)"
   ]
  },
  {
   "cell_type": "code",
   "execution_count": 20,
   "metadata": {},
   "outputs": [
    {
     "data": {
      "image/png": "[encoded data removed]",
      "text/plain": [
       "<Figure size 432x288 with 1 Axes>"
      ]
     },
     "metadata": {
      "needs_background": "light"
     },
     "output_type": "display_data"
    }
   ],
   "source": [
    "# plt.fill_between(bridge_list / (n1 * n2), l_infty_beta_list - 2*std_l_infty_beta_list, l_infty_beta_list + 2*std_l_infty_beta_list, alpha = 0.2)\n",
    "plt.fill_between(theta_list, bar_l_infty_beta_list[:,0], bar_l_infty_beta_list[:,1], alpha = 0.2)\n",
    "plt.plot(theta_list, l_infty_beta_list)\n",
    "# plt.fill_between(bridge_list / (n1 * n2), bar_yan_list[:,0], bar_yan_list[:,1], alpha = 0.2)\n",
    "# plt.plot(bridge_list / (n1 * n2), bound_yan_list)\n",
    "plt.fill_between(theta_list, bar_our_list[:,0], bar_our_list[:,1], alpha = 0.2)\n",
    "plt.plot(theta_list, bound_our_list)\n",
    "plt.fill_between(theta_list, bar_our_e_list[:,0], bar_our_e_list[:,1], alpha = 0.2)\n",
    "plt.plot(theta_list, bound_our_e_list)\n",
    "# plt.legend(['Real','Yan','Shah','Our'])\n",
    "plt.legend(['Real','Our-kappa','Our-kappa_E'])\n",
    "plt.xlabel('overlap')\n",
    "plt.ylabel('l-infinity error')\n",
    "plt.yscale('log')\n",
    "plt.savefig('error_island.pdf', bbox_inches = \"tight\")"
   ]
  },
  {
   "cell_type": "code",
   "execution_count": 51,
   "metadata": {},
   "outputs": [
    {
     "data": {
      "image/png": "[encoded data removed]",
      "text/plain": [
       "<Figure size 432x288 with 1 Axes>"
      ]
     },
     "metadata": {
      "needs_background": "light"
     },
     "output_type": "display_data"
    }
   ],
   "source": [
    "# plt.fill_between(bridge_list / (n1 * n2), l_infty_beta_list - 2*std_l_infty_beta_list, l_infty_beta_list + 2*std_l_infty_beta_list, alpha = 0.2)\n",
    "plt.fill_between(theta_list, bar_l_infty_beta_list[:,0], bar_l_infty_beta_list[:,1], alpha = 0.2)\n",
    "plt.plot(theta_list, l_infty_beta_list)\n",
    "# plt.fill_between(bridge_list / (n1 * n2), bar_yan_list[:,0], bar_yan_list[:,1], alpha = 0.2)\n",
    "# plt.plot(bridge_list / (n1 * n2), bound_yan_list)\n",
    "# plt.fill_between(theta_list, bar_shah_list[:,0], bar_shah_list[:,1], alpha = 0.2)\n",
    "# plt.plot(theta_list, bound_shah_list)\n",
    "factor_shah = np.exp(4 * kappa)\n",
    "plt.fill_between(theta_list, bar_shah_nk_list[:,0] * factor_shah, bar_shah_nk_list[:,1] * factor_shah, alpha = 0.2)\n",
    "plt.plot(theta_list, bound_shah_nk_list * factor_shah)\n",
    "\n",
    "plt.fill_between(theta_list, bar_our_list[:,0], bar_our_list[:,1], alpha = 0.2)\n",
    "plt.plot(theta_list, bound_our_list)\n",
    "# plt.legend(['Real','Yan','Shah','Our'])\n",
    "plt.legend(['Real l-inf','Shah l2','Our l-inf'])\n",
    "plt.xlabel('overlap')\n",
    "# plt.ylabel('l-infinity error')\n",
    "plt.savefig('error_island-3.pdf')"
   ]
  }
 ],
 "metadata": {
  "kernelspec": {
   "display_name": "Python 3",
   "language": "python",
   "name": "python3"
  },
  "language_info": {
   "codemirror_mode": {
    "name": "ipython",
    "version": 3
   },
   "file_extension": ".py",
   "mimetype": "text/x-python",
   "name": "python",
   "nbconvert_exporter": "python",
   "pygments_lexer": "ipython3",
   "version": "3.7.4"
  }
 },
 "nbformat": 4,
 "nbformat_minor": 2
}
