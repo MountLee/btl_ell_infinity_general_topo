{
 "cells": [
  {
   "cell_type": "code",
   "execution_count": 1,
   "metadata": {},
   "outputs": [],
   "source": [
    "import numpy as np\n",
    "import matplotlib.pyplot as plt\n",
    "import scipy.stats as stats\n",
    "import bt_mle_utils as mle\n",
    "import random"
   ]
  },
  {
   "cell_type": "code",
   "execution_count": 2,
   "metadata": {},
   "outputs": [],
   "source": [
    "########################## simulations #############################\n",
    "\n",
    "def get_beta_with_gap(N, delta = 0.1):\n",
    "    beta = np.arange(N) * delta\n",
    "    beta = beta - np.mean(beta)\n",
    "    return beta\n",
    "\n",
    "def get_p(beta):\n",
    "    N = len(beta.reshape(-1))\n",
    "    pij = np.zeros((N,N))\n",
    "    p = np.zeros(N)\n",
    "    for i in range(N):\n",
    "        for j in range(N):\n",
    "            if j == i:\n",
    "                continue\n",
    "            pij[i][j] = np.exp(beta[i] - beta[j]) / (1 + np.exp(beta[i] - beta[j]))\n",
    "            p[i] += pij[i][j] / (N - 1)\n",
    "    return p\n",
    "\n",
    "def min_gap_pi(beta):\n",
    "    N = len(beta.reshape(-1))\n",
    "    p = get_p(beta)\n",
    "    p_sort = np.sort(p)\n",
    "    min_gap = float('inf')\n",
    "    for i in range(1,N):\n",
    "        min_gap = min(min_gap, p_sort[i] - p_sort[i - 1])\n",
    "    return min_gap\n",
    "\n",
    "def topk_gap_pi(beta, k = None):\n",
    "    N = len(beta.reshape(-1))\n",
    "    if not k:\n",
    "        k = N // 2\n",
    "    p = get_p(beta)\n",
    "    p_sort = np.sort(p)\n",
    "    topk_gap = float('inf')\n",
    "    topk_gap = p_sort[-k] - p_sort[- k - 1]\n",
    "    return topk_gap\n",
    "\n",
    "def get_game_matrix_single_time(beta, total):\n",
    "    game_matrix = np.zeros(N * N).reshape(N,N)\n",
    "    for i in range(N):\n",
    "        for j in range(i + 1,N):\n",
    "            pij = np.exp(beta[i] - beta[j]) / (1 + np.exp(beta[i] - beta[j]))\n",
    "            nij = np.random.binomial(n = total, p = pij, size = 1)\n",
    "            game_matrix[i,j], game_matrix[j,i] = nij, total - nij\n",
    "    return game_matrix \n",
    "\n",
    "########################## estimators #############################\n",
    "\n",
    "def get_p_hat(game_matrix):\n",
    "    n, _ = game_matrix.shape\n",
    "    p_hat_ij = np.zeros((n,n))\n",
    "    p_hat_i = np.zeros(n)\n",
    "    for i in range(n):\n",
    "        pair = 0\n",
    "        for j in range(n):\n",
    "            if j == i:\n",
    "                continue\n",
    "            t_ij = game_matrix[i][j] + game_matrix[j][i]\n",
    "            if t_ij > 0:\n",
    "                pair += 1\n",
    "                p_hat_ij[i][j] = game_matrix[i][j] / t_ij\n",
    "                p_hat_i[i] += p_hat_ij[i][j]\n",
    "        p_hat_i[i] /= pair\n",
    "    return p_hat_i\n",
    "\n",
    "def get_mle_reg(game_matrix, lam = None):\n",
    "    n, _ = game_matrix.shape\n",
    "    total = np.max(game_matrix + game_matrix.T)\n",
    "    if not lam:\n",
    "        lam = (n * np.log(n) / total)**0.5\n",
    "    beta_hat = mle.newton_l2_sq(Y, l_penalty = 1)[1].reshape(-1)\n",
    "    beta_hat -= np.mean(beta_hat)\n",
    "    \n",
    "    return beta_hat\n",
    "\n",
    "########################## metrics #############################\n",
    "\n",
    "def ranking_error(v,v_hat):\n",
    "    r = stats.rankdata(v, method = 'min')\n",
    "    r_hat = stats.rankdata(v_hat, method = 'min')\n",
    "    return np.sum(np.abs(r - r_hat))\n",
    "\n",
    "def topk_error(v, v_hat, k = None):\n",
    "    n = len(v)\n",
    "    if not k:\n",
    "        k = n // 3\n",
    "    r = stats.rankdata(v, method = 'min')\n",
    "    r_hat = stats.rankdata(v_hat, method = 'min')\n",
    "    \n",
    "    ind = np.arange(1, n + 1)\n",
    "    top = np.where(r <= k)[0]\n",
    "    bottom = np.setdiff1d(ind, top)\n",
    "    top_hat = np.where(r_hat <= k)[0]\n",
    "    bottom_hat = np.setdiff1d(ind, top_hat)\n",
    "    \n",
    "    diff = len(np.setdiff1d(top,top_hat)) + len(np.setdiff1d(bottom,bottom_hat))\n",
    "    diff /= (2 * k)  \n",
    "\n",
    "    ## test\n",
    "    ## a1 = [1,2,3]\n",
    "    ## a2 = [3,2,1]\n",
    "    ## topk_error(a1,a2)\n",
    "    return diff\n",
    "\n",
    "def get_error(v, v_hat, k = None):\n",
    "    l1 = np.mean(np.abs(v - v_hat)) / np.sum(np.abs(v))\n",
    "    rank = ranking_error(v, v_hat)\n",
    "    topk = topk_error(v, v_hat, k = k)\n",
    "    return l1, rank, topk"
   ]
  },
  {
   "cell_type": "markdown",
   "metadata": {},
   "source": [
    "---"
   ]
  },
  {
   "cell_type": "code",
   "execution_count": 28,
   "metadata": {},
   "outputs": [],
   "source": [
    "p1, p2 = 0.1, 0.5\n",
    "n1, n2 = 50, 50\n",
    "p = np.concatenate([np.ones(n1) * p1, np.ones(n2) * p2])\n",
    "pv = p.reshape((-1,1))\n",
    "La = np.sum(p) * np.diag(p) - pv @ pv.T"
   ]
  },
  {
   "cell_type": "code",
   "execution_count": 27,
   "metadata": {},
   "outputs": [
    {
     "data": {
      "text/plain": [
       "array([[0.1, 0. , 0. , ..., 0. , 0. , 0. ],\n",
       "       [0. , 0.1, 0. , ..., 0. , 0. , 0. ],\n",
       "       [0. , 0. , 0.1, ..., 0. , 0. , 0. ],\n",
       "       ...,\n",
       "       [0. , 0. , 0. , ..., 0.5, 0. , 0. ],\n",
       "       [0. , 0. , 0. , ..., 0. , 0.5, 0. ],\n",
       "       [0. , 0. , 0. , ..., 0. , 0. , 0.5]])"
      ]
     },
     "execution_count": 27,
     "metadata": {},
     "output_type": "execute_result"
    }
   ],
   "source": [
    "np.diag(p)"
   ]
  },
  {
   "cell_type": "code",
   "execution_count": 30,
   "metadata": {},
   "outputs": [],
   "source": [
    "lambdas = np.linalg.eigvalsh(La)"
   ]
  },
  {
   "cell_type": "code",
   "execution_count": 31,
   "metadata": {
    "scrolled": true
   },
   "outputs": [
    {
     "data": {
      "text/plain": [
       "array([-6.9388939e-17,  3.0000000e+00,  3.0000000e+00,  3.0000000e+00,\n",
       "        3.0000000e+00,  3.0000000e+00,  3.0000000e+00,  3.0000000e+00,\n",
       "        3.0000000e+00,  3.0000000e+00,  3.0000000e+00,  3.0000000e+00,\n",
       "        3.0000000e+00,  3.0000000e+00,  3.0000000e+00,  3.0000000e+00,\n",
       "        3.0000000e+00,  3.0000000e+00,  3.0000000e+00,  3.0000000e+00,\n",
       "        3.0000000e+00,  3.0000000e+00,  3.0000000e+00,  3.0000000e+00,\n",
       "        3.0000000e+00,  3.0000000e+00,  3.0000000e+00,  3.0000000e+00,\n",
       "        3.0000000e+00,  3.0000000e+00,  3.0000000e+00,  3.0000000e+00,\n",
       "        3.0000000e+00,  3.0000000e+00,  3.0000000e+00,  3.0000000e+00,\n",
       "        3.0000000e+00,  3.0000000e+00,  3.0000000e+00,  3.0000000e+00,\n",
       "        3.0000000e+00,  3.0000000e+00,  3.0000000e+00,  3.0000000e+00,\n",
       "        3.0000000e+00,  3.0000000e+00,  3.0000000e+00,  3.0000000e+00,\n",
       "        3.0000000e+00,  3.0000000e+00,  5.0000000e+00,  1.5000000e+01,\n",
       "        1.5000000e+01,  1.5000000e+01,  1.5000000e+01,  1.5000000e+01,\n",
       "        1.5000000e+01,  1.5000000e+01,  1.5000000e+01,  1.5000000e+01,\n",
       "        1.5000000e+01,  1.5000000e+01,  1.5000000e+01,  1.5000000e+01,\n",
       "        1.5000000e+01,  1.5000000e+01,  1.5000000e+01,  1.5000000e+01,\n",
       "        1.5000000e+01,  1.5000000e+01,  1.5000000e+01,  1.5000000e+01,\n",
       "        1.5000000e+01,  1.5000000e+01,  1.5000000e+01,  1.5000000e+01,\n",
       "        1.5000000e+01,  1.5000000e+01,  1.5000000e+01,  1.5000000e+01,\n",
       "        1.5000000e+01,  1.5000000e+01,  1.5000000e+01,  1.5000000e+01,\n",
       "        1.5000000e+01,  1.5000000e+01,  1.5000000e+01,  1.5000000e+01,\n",
       "        1.5000000e+01,  1.5000000e+01,  1.5000000e+01,  1.5000000e+01,\n",
       "        1.5000000e+01,  1.5000000e+01,  1.5000000e+01,  1.5000000e+01,\n",
       "        1.5000000e+01,  1.5000000e+01,  1.5000000e+01,  1.5000000e+01])"
      ]
     },
     "execution_count": 31,
     "metadata": {},
     "output_type": "execute_result"
    }
   ],
   "source": [
    "lambdas"
   ]
  },
  {
   "cell_type": "markdown",
   "metadata": {},
   "source": [
    "## Barbell"
   ]
  },
  {
   "cell_type": "code",
   "execution_count": 271,
   "metadata": {},
   "outputs": [
    {
     "data": {
      "text/plain": [
       "array([0, 1, 2, 0, 1, 2])"
      ]
     },
     "execution_count": 271,
     "metadata": {},
     "output_type": "execute_result"
    }
   ],
   "source": [
    "np.tile(np.arange(3),2)"
   ]
  },
  {
   "cell_type": "code",
   "execution_count": 272,
   "metadata": {
    "scrolled": true
   },
   "outputs": [
    {
     "data": {
      "text/plain": [
       "array([0, 0, 1, 1, 2, 2])"
      ]
     },
     "execution_count": 272,
     "metadata": {},
     "output_type": "execute_result"
    }
   ],
   "source": [
    "np.repeat(np.arange(3),2)"
   ]
  },
  {
   "cell_type": "code",
   "execution_count": 4,
   "metadata": {},
   "outputs": [],
   "source": [
    "def get_complete_adj(n = 50):\n",
    "    return np.ones((n,n)) - np.eye(n)\n",
    "\n",
    "def random_edge(n1, n2, edge):\n",
    "    index = np.random.choice(n1 * n2, edge, replace = False)\n",
    "    i1 = np.repeat(np.arange(n1), n2)[index]\n",
    "    i2 = np.tile(np.arange(n1), n2)[index]    \n",
    "    A = np.zeros((n1, n2))\n",
    "    A[i1,i2] = 1\n",
    "    return A\n",
    "\n",
    "def get_barbell_adj(n1 = 50, n2 = 50, bridge = 1):\n",
    "    n = n1 + n2\n",
    "    A = np.zeros((n,n))\n",
    "    A[:n1,:n1] = get_complete_adj(n = n1)\n",
    "    A[n1:,n1:] = get_complete_adj(n = n2)\n",
    "    A[:n1,n1:] = random_edge(n1 = n1, n2 = n2, edge = bridge)\n",
    "    A[n1:,:n1] = A[:n1,n1:].copy().T\n",
    "    return A\n",
    "\n",
    "def lambda2_A(A):\n",
    "    n = A.shape[0]\n",
    "    La = np.diag(np.sum(A, axis = 0)) - A\n",
    "    lambdas = np.linalg.eigvalsh(La)\n",
    "    return lambdas[1], lambdas[-1]\n",
    "\n",
    "def min_n_ij(A):\n",
    "    return np.min(A @ A)"
   ]
  },
  {
   "cell_type": "code",
   "execution_count": 283,
   "metadata": {},
   "outputs": [
    {
     "data": {
      "text/plain": [
       "10.0"
      ]
     },
     "execution_count": 283,
     "metadata": {},
     "output_type": "execute_result"
    }
   ],
   "source": [
    "E = random_edge(5,5,10)\n",
    "np.sum(E)"
   ]
  },
  {
   "cell_type": "code",
   "execution_count": 289,
   "metadata": {
    "scrolled": true
   },
   "outputs": [
    {
     "data": {
      "text/plain": [
       "array([[0., 1., 1., 0., 0., 0., 0., 0.],\n",
       "       [1., 0., 1., 0., 0., 0., 0., 0.],\n",
       "       [1., 1., 0., 0., 0., 1., 0., 0.],\n",
       "       [0., 0., 0., 0., 1., 1., 1., 1.],\n",
       "       [0., 0., 0., 1., 0., 1., 1., 1.],\n",
       "       [0., 0., 1., 1., 1., 0., 1., 1.],\n",
       "       [0., 0., 0., 1., 1., 1., 0., 1.],\n",
       "       [0., 0., 0., 1., 1., 1., 1., 0.]])"
      ]
     },
     "execution_count": 289,
     "metadata": {},
     "output_type": "execute_result"
    }
   ],
   "source": [
    "A = get_barbell_adj(n1 = 3, n2 = 5, bridge = 1)\n",
    "A"
   ]
  },
  {
   "cell_type": "code",
   "execution_count": 294,
   "metadata": {
    "collapsed": true
   },
   "outputs": [
    {
     "name": "stdout",
     "output_type": "stream",
     "text": [
      "(0, 1)\n",
      "(0, 2)\n",
      "(1, 0)\n",
      "(1, 2)\n",
      "(2, 0)\n",
      "(2, 1)\n",
      "(2, 5)\n",
      "(3, 4)\n",
      "(3, 5)\n",
      "(3, 6)\n",
      "(3, 7)\n",
      "(4, 3)\n",
      "(4, 5)\n",
      "(4, 6)\n",
      "(4, 7)\n",
      "(5, 2)\n",
      "(5, 3)\n",
      "(5, 4)\n",
      "(5, 6)\n",
      "(5, 7)\n",
      "(6, 3)\n",
      "(6, 4)\n",
      "(6, 5)\n",
      "(6, 7)\n",
      "(7, 3)\n",
      "(7, 4)\n",
      "(7, 5)\n",
      "(7, 6)\n"
     ]
    }
   ],
   "source": [
    "e = np.where(A)\n",
    "a = zip(e[0],e[1])\n",
    "for i in a:\n",
    "    print(i)"
   ]
  },
  {
   "cell_type": "code",
   "execution_count": 291,
   "metadata": {},
   "outputs": [
    {
     "data": {
      "text/plain": [
       "array([[1., 1., 1.],\n",
       "       [0., 1., 1.],\n",
       "       [0., 0., 1.]])"
      ]
     },
     "execution_count": 291,
     "metadata": {},
     "output_type": "execute_result"
    }
   ],
   "source": [
    "np.triu(np.ones((3,3)))"
   ]
  },
  {
   "cell_type": "code",
   "execution_count": null,
   "metadata": {},
   "outputs": [],
   "source": []
  },
  {
   "cell_type": "code",
   "execution_count": 285,
   "metadata": {},
   "outputs": [],
   "source": [
    "n1, n2 = 50, 50\n",
    "bridge_list = np.arange(50) * 50\n",
    "lam2_list = []\n",
    "min_n_ij_list = []\n",
    "B = 10\n",
    "for bridge in bridge_list:\n",
    "    lam, n_ij = 0, 0\n",
    "    for b in range(B):\n",
    "        A = get_barbell_adj(n1 = n1, n2 = n2, bridge = bridge)\n",
    "        lam2, lamn = lambda2_A(A)\n",
    "        lam += lam2 / B\n",
    "        n_ij += min_n_ij(A) / B\n",
    "    lam2_list.append(lam)\n",
    "    min_n_ij_list.append(n_ij)\n",
    "lam2_list = np.array(lam2_list)\n",
    "min_n_ij_list = np.array(min_n_ij_list)"
   ]
  },
  {
   "cell_type": "code",
   "execution_count": 286,
   "metadata": {
    "scrolled": true
   },
   "outputs": [
    {
     "data": {
      "text/plain": [
       "<matplotlib.legend.Legend at 0x204220fba88>"
      ]
     },
     "execution_count": 286,
     "metadata": {},
     "output_type": "execute_result"
    },
    {
     "data": {
      "image/png": "[encoded data removed]",
      "text/plain": [
       "<Figure size 432x288 with 1 Axes>"
      ]
     },
     "metadata": {
      "needs_background": "light"
     },
     "output_type": "display_data"
    }
   ],
   "source": [
    "plt.plot(bridge_list / (n1 * n2), lam2_list)\n",
    "plt.plot(bridge_list / (n1 * n2), min_n_ij_list)\n",
    "plt.legend(['lam2','min_n_ij'])"
   ]
  },
  {
   "cell_type": "code",
   "execution_count": 288,
   "metadata": {},
   "outputs": [
    {
     "data": {
      "text/plain": [
       "array([[0., 1., 1., ..., 1., 1., 1.],\n",
       "       [1., 0., 1., ..., 1., 1., 1.],\n",
       "       [1., 1., 0., ..., 1., 1., 1.],\n",
       "       ...,\n",
       "       [1., 1., 1., ..., 0., 1., 1.],\n",
       "       [1., 1., 1., ..., 1., 0., 1.],\n",
       "       [1., 1., 1., ..., 1., 1., 0.]])"
      ]
     },
     "execution_count": 288,
     "metadata": {},
     "output_type": "execute_result"
    }
   ],
   "source": [
    "A"
   ]
  },
  {
   "cell_type": "code",
   "execution_count": 5,
   "metadata": {},
   "outputs": [],
   "source": [
    "def get_barbell_edge(n1 = 50, n2 = 50, bridge = 1):\n",
    "    n = n1 + n2\n",
    "    A = get_barbell_adj(n1 = n1, n2 = n2, bridge = bridge)\n",
    "    edge = np.where(np.triu(A))\n",
    "    return zip(edge[0], edge[1])\n",
    "\n",
    "def get_edge(A):\n",
    "    edge = np.where(np.triu(A))\n",
    "    return zip(edge[0], edge[1])"
   ]
  },
  {
   "cell_type": "code",
   "execution_count": 123,
   "metadata": {},
   "outputs": [],
   "source": [
    "def get_beta_with_gap(N, delta = 0.1):\n",
    "    beta = np.arange(N) * delta\n",
    "    beta = beta - np.mean(beta)\n",
    "    return beta\n",
    "\n",
    "def get_game_matrix(beta, edge_list, total = 1):\n",
    "    N = len(beta)\n",
    "    game_matrix = np.zeros((N,N))\n",
    "    for edge in edge_list:\n",
    "        i, j = edge\n",
    "        pij = np.exp(beta[i] - beta[j]) / (1 + np.exp(beta[i] - beta[j]))\n",
    "        nij = np.random.binomial(n = total, p = pij, size = 1)\n",
    "        game_matrix[i,j], game_matrix[j,i] = nij, total - nij\n",
    "    return game_matrix\n",
    "\n",
    "def get_mle_reg(game_matrix, rho = None):\n",
    "    n, _ = game_matrix.shape\n",
    "    total = np.max(game_matrix + game_matrix.T)\n",
    "    if not rho:\n",
    "        rho = (n * np.log(n) / total)**0.5\n",
    "    beta_hat = mle.newton_l2_sq(game_matrix, l_penalty = rho)[1].reshape(-1)\n",
    "    beta_hat -= np.mean(beta_hat)\n",
    "    \n",
    "    return beta_hat\n",
    "\n",
    "def l0_error(v, v_hat):\n",
    "    return np.max(np.abs(v - v_hat))\n",
    "\n",
    "def ranking_error(v,v_hat):\n",
    "    r = stats.rankdata(v, method = 'min')\n",
    "    r_hat = stats.rankdata(v_hat, method = 'min')\n",
    "    return np.sum(np.abs(r - r_hat))\n",
    "\n",
    "def topk_error(v, v_hat, k = None):\n",
    "    n = len(v)\n",
    "    if not k:\n",
    "        k = n // 3\n",
    "    r = stats.rankdata(v, method = 'min')\n",
    "    r_hat = stats.rankdata(v_hat, method = 'min')\n",
    "    \n",
    "    ind = np.arange(1, n + 1)\n",
    "    top = np.where(r <= k)[0]\n",
    "    bottom = np.setdiff1d(ind, top)\n",
    "    top_hat = np.where(r_hat <= k)[0]\n",
    "    bottom_hat = np.setdiff1d(ind, top_hat)\n",
    "    \n",
    "    diff = len(np.setdiff1d(top,top_hat)) + len(np.setdiff1d(bottom,bottom_hat))\n",
    "    diff /= (2 * k)  \n",
    "\n",
    "    ## test\n",
    "    ## a1 = [1,2,3]\n",
    "    ## a2 = [3,2,1]\n",
    "    ## topk_error(a1,a2)\n",
    "    return diff\n",
    "\n",
    "def get_error(v, v_hat, k = None):\n",
    "    l0 = l0_error(v, v_hat)\n",
    "    rank = ranking_error(v, v_hat)\n",
    "    topk = topk_error(v, v_hat, k = k)\n",
    "    return l0, rank, topk\n",
    "\n",
    "def get_bound_yan(kappa, n_ij, n, L, no_kappa = False):\n",
    "    if no_kappa:\n",
    "        return 1 / n_ij * np.sqrt(L * n * np.log(n + 1))\n",
    "    else:\n",
    "        return np.exp(kappa) / n_ij * np.sqrt(L * n * np.log(n + 1))\n",
    "    \n",
    "def get_bound_shah(kappa, lam2, n, L, no_kappa = False):\n",
    "    if no_kappa:\n",
    "        return np.sqrt(1/lam2 * (n * np.log(n) / L))\n",
    "    else:\n",
    "        return np.exp(4 * kappa) * np.sqrt(1/lam2 * (n * np.log(n) / L))\n",
    "\n",
    "\n",
    "def get_bound_our(kappa, lam2, n_max, n_min, n, L, no_kappa = False):\n",
    "    if no_kappa:\n",
    "        return 1/lam2 * (n_max/n_min) * np.sqrt(n / L) + 1/lam2 * np.sqrt(n_max * np.log(n) / L)\n",
    "    else:\n",
    "        return np.exp(2 * kappa)/lam2 * (n_max/n_min) * np.sqrt(n / L) + np.exp(kappa)/lam2 * np.sqrt(n_max * np.log(n) / L)"
   ]
  },
  {
   "cell_type": "code",
   "execution_count": 241,
   "metadata": {},
   "outputs": [
    {
     "data": {
      "text/plain": [
       "2.1972245773362196"
      ]
     },
     "execution_count": 241,
     "metadata": {},
     "output_type": "execute_result"
    }
   ],
   "source": [
    "t = 0.9\n",
    "kappa = np.log(t / (1 - t))\n",
    "kappa"
   ]
  },
  {
   "cell_type": "code",
   "execution_count": 243,
   "metadata": {},
   "outputs": [
    {
     "data": {
      "text/plain": [
       "6561.000000000005"
      ]
     },
     "execution_count": 243,
     "metadata": {},
     "output_type": "execute_result"
    }
   ],
   "source": [
    "np.exp(4 * kappa)"
   ]
  },
  {
   "cell_type": "code",
   "execution_count": 310,
   "metadata": {
    "scrolled": false
   },
   "outputs": [
    {
     "data": {
      "text/plain": [
       "(100, 100)"
      ]
     },
     "execution_count": 310,
     "metadata": {},
     "output_type": "execute_result"
    }
   ],
   "source": [
    "game_matrix.shape"
   ]
  },
  {
   "cell_type": "code",
   "execution_count": 309,
   "metadata": {},
   "outputs": [
    {
     "data": {
      "text/plain": [
       "50"
      ]
     },
     "execution_count": 309,
     "metadata": {},
     "output_type": "execute_result"
    }
   ],
   "source": [
    "len(beta_hat)"
   ]
  },
  {
   "cell_type": "code",
   "execution_count": 7,
   "metadata": {},
   "outputs": [],
   "source": [
    "def get_topo(A):\n",
    "    lam2, lamn = lambda2_A(A)\n",
    "    n_ij = min_n_ij(A)\n",
    "    deg = np.sum(A, axis = 0)\n",
    "    n_max, n_min = np.max(deg), np.min(deg)\n",
    "    return lam2, n_ij, n_max, n_min"
   ]
  },
  {
   "cell_type": "code",
   "execution_count": 30,
   "metadata": {},
   "outputs": [
    {
     "data": {
      "text/plain": [
       "0.8909031788043871"
      ]
     },
     "execution_count": 30,
     "metadata": {},
     "output_type": "execute_result"
    }
   ],
   "source": [
    "kappa = 2.1\n",
    "np.exp(kappa) / (1 + np.exp(kappa))"
   ]
  },
  {
   "cell_type": "code",
   "execution_count": 32,
   "metadata": {},
   "outputs": [
    {
     "data": {
      "text/plain": [
       "2.1972245773362196"
      ]
     },
     "execution_count": 32,
     "metadata": {},
     "output_type": "execute_result"
    }
   ],
   "source": [
    "t = 0.9\n",
    "np.log(t / (1 - t))"
   ]
  },
  {
   "cell_type": "code",
   "execution_count": 148,
   "metadata": {
    "scrolled": true
   },
   "outputs": [
    {
     "name": "stderr",
     "output_type": "stream",
     "text": [
      "c:\\python\\lib\\site-packages\\ipykernel_launcher.py:66: RuntimeWarning: divide by zero encountered in double_scalars\n",
      "c:\\python\\lib\\site-packages\\ipykernel_launcher.py:64: RuntimeWarning: divide by zero encountered in double_scalars\n",
      "c:\\python\\lib\\site-packages\\numpy\\core\\_methods.py:229: RuntimeWarning: invalid value encountered in subtract\n",
      "  x = asanyarray(arr - arrmean)\n",
      "c:\\python\\lib\\site-packages\\numpy\\lib\\function_base.py:3961: RuntimeWarning: invalid value encountered in subtract\n",
      "  diff_b_a = subtract(b, a)\n"
     ]
    },
    {
     "name": "stdout",
     "output_type": "stream",
     "text": [
      "0.004\n",
      "0.01\n",
      "0.02\n",
      "0.03\n",
      "0.04\n",
      "0.08\n",
      "0.12\n",
      "0.16\n",
      "0.2\n",
      "0.32\n",
      "0.48\n",
      "0.64\n",
      "0.8\n",
      "0.96\n"
     ]
    }
   ],
   "source": [
    "n1, n2 = 50, 50\n",
    "# bridge_list = np.arange(m) * 50\n",
    "bridge_list = np.array([10, 25, 50, 75, 100, 200, 300, 400, 500, 800, 1200, 1600, 2000, 2400])\n",
    "m = len(bridge_list)\n",
    "B = 20\n",
    "\n",
    "lam2_list = np.zeros(m)\n",
    "min_n_ij_list = np.zeros(m)\n",
    "n_max_list = np.zeros(m)\n",
    "n_min_list = np.zeros(m)\n",
    "\n",
    "bound_yan_list = np.zeros(m)\n",
    "bound_shah_list = np.zeros(m)\n",
    "bound_our_list = np.zeros(m)\n",
    "bound_yan_nk_list = np.zeros(m)\n",
    "bound_shah_nk_list = np.zeros(m)\n",
    "bound_our_nk_list = np.zeros(m)\n",
    "\n",
    "std_yan_list = np.zeros(m)\n",
    "std_shah_list = np.zeros(m)\n",
    "std_our_list = np.zeros(m)\n",
    "std_yan_nk_list = np.zeros(m)\n",
    "std_shah_nk_list = np.zeros(m)\n",
    "std_our_nk_list = np.zeros(m)\n",
    "\n",
    "bar_yan_list = np.zeros((m,2))\n",
    "bar_shah_list = np.zeros((m,2))\n",
    "bar_our_list = np.zeros((m,2))\n",
    "bar_yan_nk_list = np.zeros((m,2))\n",
    "bar_shah_nk_list = np.zeros((m,2))\n",
    "bar_our_nk_list = np.zeros((m,2))\n",
    "\n",
    "n = n1 + n2\n",
    "# delta = np.log(n) / n\n",
    "k = 10\n",
    "t = 0.9\n",
    "kappa = np.log(t / (1 - t))\n",
    "delta = 1\n",
    "beta = get_beta_with_gap(n, delta)\n",
    "beta *= kappa / (np.max(beta) - np.min(beta))\n",
    "total = 5\n",
    "\n",
    "\n",
    "l0_beta_list = np.zeros(m)\n",
    "std_l0_beta_list = np.zeros(m)\n",
    "bar_l0_beta_list = np.zeros((m,2))\n",
    "rank_beta_list = np.zeros(m)\n",
    "topk_beta_list = np.zeros(m)\n",
    "\n",
    "np.random.seed(0)\n",
    "\n",
    "for ix, bridge in enumerate(bridge_list):\n",
    "    lam, n_ij = 0, 0\n",
    "    \n",
    "    l0_beta_, rank_beta_, topk_beta_ = np.zeros(B), np.zeros(B), np.zeros(B)\n",
    "    lam2_, n_ij_, n_max_, n_min_ = np.zeros(B), np.zeros(B), np.zeros(B), np.zeros(B)\n",
    "    bound_yan_, bound_shah_, bound_our_ = np.zeros(B), np.zeros(B), np.zeros(B)\n",
    "    bound_yan_nk_, bound_shah_nk_, bound_our_nk_ = np.zeros(B), np.zeros(B), np.zeros(B)\n",
    "    \n",
    "    for b in range(B):\n",
    "        A = get_barbell_adj(n1 = n1, n2 = n2, bridge = bridge)\n",
    "        lam2_[b], n_ij_[b], n_max_[b], n_min_[b] = get_topo(A)\n",
    "        \n",
    "        edge_list = get_edge(A)\n",
    "        game_matrix = get_game_matrix(beta, edge_list, total)\n",
    "        \n",
    "        beta_hat = get_mle_reg(game_matrix)\n",
    "        l0_beta_[b], rank_beta_[b], topk_beta_[b] = get_error(beta, beta_hat, k = k)\n",
    "        \n",
    "        L = total\n",
    "        bound_yan_[b] = get_bound_yan(kappa, n_ij_[b], n, L = total)\n",
    "        bound_shah_[b] = get_bound_shah(kappa, lam2_[b], n, L = total)\n",
    "        bound_our_[b] = get_bound_our(kappa, lam2_[b], n_max_[b], n_min_[b], n, L)\n",
    "        \n",
    "        bound_yan_nk_[b] = get_bound_yan(kappa, n_ij_[b], n, L = total, no_kappa = True)\n",
    "        bound_shah_nk_[b] = get_bound_shah(kappa, lam2_[b], n, L = total, no_kappa = True)\n",
    "        bound_our_nk_[b] = get_bound_our(kappa, lam2_[b], n_max_[b], n_min_[b], n, L, no_kappa = True)\n",
    "        \n",
    "        \n",
    "        \n",
    "    lam2_list[ix] = np.mean(lam2_)\n",
    "    min_n_ij_list[ix] = np.mean(n_ij_)\n",
    "    n_max_list[ix], n_min_list[ix] = np.mean(n_max_), np.mean(n_min_)\n",
    "    bound_yan_list[ix] = np.mean(bound_yan_)\n",
    "    bound_shah_list[ix] = np.mean(bound_shah_)\n",
    "    bound_our_list[ix] = np.mean(bound_our_)\n",
    "    bound_yan_nk_list[ix] = np.mean(bound_yan_nk_)\n",
    "    bound_shah_nk_list[ix] = np.mean(bound_shah_nk_)\n",
    "    bound_our_nk_list[ix] = np.mean(bound_our_nk_)\n",
    "    \n",
    "    std_yan_list[ix] = np.std(bound_yan_)\n",
    "    std_shah_list[ix] = np.std(bound_shah_)\n",
    "    std_our_list[ix] = np.std(bound_our_)\n",
    "    std_yan_nk_list[ix] = np.std(bound_yan_nk_)\n",
    "    std_shah_nk_list[ix] = np.std(bound_shah_nk_)\n",
    "    std_our_nk_list[ix] = np.std(bound_our_nk_)\n",
    "    \n",
    "    bar_yan_list[ix,:] = np.quantile(bound_yan_, 0.05), np.quantile(bound_yan_, 0.95)\n",
    "    bar_shah_list[ix, :] = np.quantile(bound_shah_, 0.05), np.quantile(bound_shah_, 0.95)\n",
    "    bar_our_list[ix, :] = np.quantile(bound_our_, 0.05), np.quantile(bound_our_, 0.95)\n",
    "    bar_yan_nk_list[ix, :] = np.quantile(bound_yan_nk_, 0.05), np.quantile(bound_yan_nk_, 0.95)\n",
    "    bar_shah_nk_list[ix, :] = np.quantile(bound_shah_nk_, 0.05), np.quantile(bound_shah_nk_, 0.95)\n",
    "    bar_our_nk_list[ix, :] = np.quantile(bound_our_nk_, 0.05), np.quantile(bound_our_nk_, 0.95)\n",
    "    \n",
    "    l0_beta_list[ix] = np.mean(l0_beta_)\n",
    "    std_l0_beta_list[ix] = np.std(l0_beta_)\n",
    "    bar_l0_beta_list[ix, :] = np.quantile(l0_beta_, 0.05), np.quantile(l0_beta_, 0.95)\n",
    "    \n",
    "    rank_beta_list = np.mean(rank_beta_)\n",
    "    topk_beta_list = np.mean(topk_beta_)    \n",
    "    \n",
    "    print(bridge / (n1 * n2))"
   ]
  },
  {
   "cell_type": "code",
   "execution_count": 70,
   "metadata": {
    "scrolled": true
   },
   "outputs": [
    {
     "data": {
      "text/plain": [
       "array([          inf,           inf,           inf,           inf,\n",
       "                 inf,           inf, 1297.00093616,  640.67728783,\n",
       "        426.02020167,  208.47379834,  108.83084738,   72.28964191,\n",
       "         52.73630414,   39.89668645])"
      ]
     },
     "execution_count": 70,
     "metadata": {},
     "output_type": "execute_result"
    }
   ],
   "source": [
    "bound_yan_list"
   ]
  },
  {
   "cell_type": "code",
   "execution_count": 165,
   "metadata": {
    "scrolled": true
   },
   "outputs": [
    {
     "data": {
      "image/png": "[encoded data removed]",
      "text/plain": [
       "<Figure size 432x288 with 1 Axes>"
      ]
     },
     "metadata": {
      "needs_background": "light"
     },
     "output_type": "display_data"
    }
   ],
   "source": [
    "# plt.fill_between(bridge_list / (n1 * n2), l0_beta_list - 2*std_l0_beta_list, l0_beta_list + 2*std_l0_beta_list, alpha = 0.2)\n",
    "plt.fill_between(bridge_list / (n1 * n2), bar_l0_beta_list[:,0], bar_l0_beta_list[:,1], alpha = 0.2)\n",
    "plt.plot(bridge_list / (n1 * n2), l0_beta_list)\n",
    "plt.xlabel('bridge density')\n",
    "plt.ylabel('l-infinity error')\n",
    "plt.savefig('barbell-3.pdf')"
   ]
  },
  {
   "cell_type": "code",
   "execution_count": 75,
   "metadata": {},
   "outputs": [
    {
     "data": {
      "text/plain": [
       "[<matplotlib.lines.Line2D at 0x1fec2df8e48>]"
      ]
     },
     "execution_count": 75,
     "metadata": {},
     "output_type": "execute_result"
    },
    {
     "data": {
      "image/png": "[encoded data removed]",
      "text/plain": [
       "<Figure size 432x288 with 1 Axes>"
      ]
     },
     "metadata": {
      "needs_background": "light"
     },
     "output_type": "display_data"
    }
   ],
   "source": [
    "plt.plot(l0_beta_list)"
   ]
  },
  {
   "cell_type": "code",
   "execution_count": 164,
   "metadata": {},
   "outputs": [
    {
     "data": {
      "image/png": "[encoded data removed]",
      "text/plain": [
       "<Figure size 432x288 with 1 Axes>"
      ]
     },
     "metadata": {
      "needs_background": "light"
     },
     "output_type": "display_data"
    }
   ],
   "source": [
    "# plt.fill_between(bridge_list / (n1 * n2), l0_beta_list - 2*std_l0_beta_list, l0_beta_list + 2*std_l0_beta_list, alpha = 0.2)\n",
    "plt.fill_between(bridge_list / (n1 * n2), bar_l0_beta_list[:,0], bar_l0_beta_list[:,1], alpha = 0.2)\n",
    "plt.plot(bridge_list / (n1 * n2), l0_beta_list)\n",
    "plt.fill_between(bridge_list / (n1 * n2), bar_yan_list[:,0], bar_yan_list[:,1], alpha = 0.2)\n",
    "plt.plot(bridge_list / (n1 * n2), bound_yan_list)\n",
    "# plt.plot(bridge_list / (n1 * n2), bound_shah_list)\n",
    "plt.fill_between(bridge_list / (n1 * n2), bar_our_list[:,0], bar_our_list[:,1], alpha = 0.2)\n",
    "plt.plot(bridge_list / (n1 * n2), bound_our_list)\n",
    "# plt.legend(['Real','Yan','Shah','Our'])\n",
    "plt.legend(['Real','Yan','Our'])\n",
    "plt.xlabel('bridge density')\n",
    "plt.ylabel('l-infinity error')\n",
    "plt.savefig('barbell-1.pdf')"
   ]
  },
  {
   "cell_type": "code",
   "execution_count": 163,
   "metadata": {},
   "outputs": [
    {
     "data": {
      "image/png": "[encoded data removed]",
      "text/plain": [
       "<Figure size 432x288 with 1 Axes>"
      ]
     },
     "metadata": {
      "needs_background": "light"
     },
     "output_type": "display_data"
    }
   ],
   "source": [
    "i = 10\n",
    "# plt.fill_between(bridge_list / (n1 * n2), l0_beta_list - 2*std_l0_beta_list, l0_beta_list + 2*std_l0_beta_list, alpha = 0.2)\n",
    "plt.fill_between(bridge_list[i:] / (n1 * n2), bar_l0_beta_list[i:,0], bar_l0_beta_list[i:,1], alpha = 0.2)\n",
    "plt.plot(bridge_list[i:] / (n1 * n2), l0_beta_list[i:])\n",
    "plt.fill_between(bridge_list[i:] / (n1 * n2), bar_yan_list[i:,0], bar_yan_list[i:,1], alpha = 0.2)\n",
    "plt.plot(bridge_list[i:] / (n1 * n2), bound_yan_list[i:])\n",
    "# plt.plot(bridge_list / (n1 * n2), bound_shah_list)\n",
    "plt.fill_between(bridge_list[i:] / (n1 * n2), bar_our_list[i:,0], bar_our_list[i:,1], alpha = 0.2)\n",
    "plt.plot(bridge_list[i:] / (n1 * n2), bound_our_list[i:])\n",
    "# plt.legend(['Real','Yan','Shah','Our'])\n",
    "plt.legend(['Real','Yan','Our'])\n",
    "plt.xlabel('bridge density')\n",
    "plt.ylabel('l-infinity error')\n",
    "plt.savefig('barbell-2.pdf')"
   ]
  },
  {
   "cell_type": "code",
   "execution_count": null,
   "metadata": {},
   "outputs": [],
   "source": []
  },
  {
   "cell_type": "code",
   "execution_count": 126,
   "metadata": {},
   "outputs": [
    {
     "data": {
      "text/plain": [
       "Text(0, 0.5, 'l-infinity error')"
      ]
     },
     "execution_count": 126,
     "metadata": {},
     "output_type": "execute_result"
    },
    {
     "data": {
      "image/png": "[encoded data removed]",
      "text/plain": [
       "<Figure size 432x288 with 1 Axes>"
      ]
     },
     "metadata": {
      "needs_background": "light"
     },
     "output_type": "display_data"
    }
   ],
   "source": [
    "plt.plot(bridge_list / (n1 * n2), l0_beta_list)\n",
    "plt.plot(bridge_list / (n1 * n2), bound_yan_list)\n",
    "plt.plot(bridge_list / (n1 * n2), bound_shah_list)\n",
    "plt.plot(bridge_list / (n1 * n2), bound_our_list)\n",
    "plt.legend(['Real','Yan','Shah','Our'])\n",
    "plt.xlabel('bridge density')\n",
    "plt.ylabel('l-infinity error')\n",
    "# plt.savefig('barbell-1.pdf')"
   ]
  },
  {
   "cell_type": "code",
   "execution_count": 167,
   "metadata": {},
   "outputs": [
    {
     "data": {
      "text/plain": [
       "Text(0, 0.5, 'l-infinity error')"
      ]
     },
     "execution_count": 167,
     "metadata": {},
     "output_type": "execute_result"
    },
    {
     "data": {
      "image/png": "[encoded data removed]",
      "text/plain": [
       "<Figure size 432x288 with 1 Axes>"
      ]
     },
     "metadata": {
      "needs_background": "light"
     },
     "output_type": "display_data"
    }
   ],
   "source": [
    "# plt.fill_between(bridge_list / (n1 * n2), l0_beta_list - 2*std_l0_beta_list, l0_beta_list + 2*std_l0_beta_list, alpha = 0.2)\n",
    "plt.fill_between(bridge_list / (n1 * n2), bar_l0_beta_list[:,0], bar_l0_beta_list[:,1], alpha = 0.2)\n",
    "plt.plot(bridge_list / (n1 * n2), l0_beta_list)\n",
    "plt.fill_between(bridge_list / (n1 * n2), bar_yan_list[:,0], bar_yan_list[:,1], alpha = 0.2)\n",
    "plt.plot(bridge_list / (n1 * n2), bound_yan_list)\n",
    "plt.fill_between(bridge_list / (n1 * n2), bar_shah_list[:,0], bar_shah_list[:,1], alpha = 0.2)\n",
    "plt.plot(bridge_list / (n1 * n2), bound_shah_list)\n",
    "plt.fill_between(bridge_list / (n1 * n2), bar_our_list[:,0], bar_our_list[:,1], alpha = 0.2)\n",
    "plt.plot(bridge_list / (n1 * n2), bound_our_list)\n",
    "plt.legend(['Real','Yan','Shah','Our'])\n",
    "# plt.legend(['Real','Yan','Our'])\n",
    "plt.xlabel('bridge density')\n",
    "plt.ylabel('l-infinity error')\n",
    "# plt.savefig('barbell-1.pdf')"
   ]
  },
  {
   "cell_type": "code",
   "execution_count": 168,
   "metadata": {},
   "outputs": [
    {
     "data": {
      "text/plain": [
       "Text(0, 0.5, 'l-infinity error')"
      ]
     },
     "execution_count": 168,
     "metadata": {},
     "output_type": "execute_result"
    },
    {
     "data": {
      "image/png": "[encoded data removed]",
      "text/plain": [
       "<Figure size 432x288 with 1 Axes>"
      ]
     },
     "metadata": {
      "needs_background": "light"
     },
     "output_type": "display_data"
    }
   ],
   "source": [
    "# plt.fill_between(bridge_list / (n1 * n2), l0_beta_list - 2*std_l0_beta_list, l0_beta_list + 2*std_l0_beta_list, alpha = 0.2)\n",
    "plt.fill_between(bridge_list / (n1 * n2), bar_l0_beta_list[:,0], bar_l0_beta_list[:,1], alpha = 0.2)\n",
    "plt.plot(bridge_list / (n1 * n2), l0_beta_list)\n",
    "plt.fill_between(bridge_list / (n1 * n2), bar_yan_nk_list[:,0], bar_yan_nk_list[:,1], alpha = 0.2)\n",
    "plt.plot(bridge_list / (n1 * n2), bound_yan_nk_list)\n",
    "plt.fill_between(bridge_list / (n1 * n2), bar_shah_nk_list[:,0], bar_shah_nk_list[:,1], alpha = 0.2)\n",
    "plt.plot(bridge_list / (n1 * n2), bound_shah_nk_list)\n",
    "plt.fill_between(bridge_list / (n1 * n2), bar_our_nk_list[:,0], bar_our_nk_list[:,1], alpha = 0.2)\n",
    "plt.plot(bridge_list / (n1 * n2), bound_our_nk_list)\n",
    "plt.legend(['Real','Yan','Shah','Our'])\n",
    "# plt.legend(['Real','Yan','Our'])\n",
    "plt.xlabel('bridge density')\n",
    "plt.ylabel('l-infinity error')\n",
    "# plt.savefig('barbell-1.pdf')"
   ]
  },
  {
   "cell_type": "code",
   "execution_count": 77,
   "metadata": {},
   "outputs": [
    {
     "data": {
      "text/plain": [
       "14"
      ]
     },
     "execution_count": 77,
     "metadata": {},
     "output_type": "execute_result"
    }
   ],
   "source": [
    "len(bridge_list)"
   ]
  },
  {
   "cell_type": "code",
   "execution_count": 170,
   "metadata": {},
   "outputs": [
    {
     "data": {
      "text/plain": [
       "Text(0, 0.5, 'l-infinity error')"
      ]
     },
     "execution_count": 170,
     "metadata": {},
     "output_type": "execute_result"
    },
    {
     "data": {
      "image/png": "[encoded data removed]",
      "text/plain": [
       "<Figure size 432x288 with 1 Axes>"
      ]
     },
     "metadata": {
      "needs_background": "light"
     },
     "output_type": "display_data"
    }
   ],
   "source": [
    "i = 10\n",
    "# plt.fill_between(bridge_list / (n1 * n2), l0_beta_list - 2*std_l0_beta_list, l0_beta_list + 2*std_l0_beta_list, alpha = 0.2)\n",
    "plt.fill_between(bridge_list[i:] / (n1 * n2), bar_l0_beta_list[i:,0], bar_l0_beta_list[i:,1], alpha = 0.2)\n",
    "plt.plot(bridge_list[i:] / (n1 * n2), l0_beta_list[i:])\n",
    "plt.fill_between(bridge_list[i:] / (n1 * n2), bar_yan_nk_list[i:,0], bar_yan_nk_list[i:,1], alpha = 0.2)\n",
    "plt.plot(bridge_list[i:] / (n1 * n2), bound_yan_nk_list[i:])\n",
    "plt.fill_between(bridge_list[i:] / (n1 * n2), bar_shah_nk_list[i:,0], bar_shah_nk_list[i:,1], alpha = 0.2)\n",
    "plt.plot(bridge_list[i:] / (n1 * n2), bound_shah_nk_list[i:])\n",
    "plt.fill_between(bridge_list[i:] / (n1 * n2), bar_our_nk_list[i:,0], bar_our_nk_list[i:,1], alpha = 0.2)\n",
    "plt.plot(bridge_list[i:] / (n1 * n2), bound_our_nk_list[i:])\n",
    "plt.legend(['Real','Yan','Shah','Our'])\n",
    "# plt.legend(['Real','Yan','Our'])\n",
    "plt.xlabel('bridge density')\n",
    "plt.ylabel('l-infinity error')\n",
    "# plt.savefig('barbell-1.pdf')"
   ]
  },
  {
   "cell_type": "code",
   "execution_count": 134,
   "metadata": {
    "scrolled": false
   },
   "outputs": [
    {
     "data": {
      "text/plain": [
       "Text(0, 0.5, 'l-infinity error')"
      ]
     },
     "execution_count": 134,
     "metadata": {},
     "output_type": "execute_result"
    },
    {
     "data": {
      "image/png": "[encoded data removed]",
      "text/plain": [
       "<Figure size 432x288 with 1 Axes>"
      ]
     },
     "metadata": {
      "needs_background": "light"
     },
     "output_type": "display_data"
    }
   ],
   "source": [
    "i = 10\n",
    "plt.plot(bridge_list[i:] / (n1 * n2), l0_beta_list[i:])\n",
    "plt.plot(bridge_list[i:] / (n1 * n2), bound_yan_list[i:])\n",
    "plt.plot(bridge_list[i:] / (n1 * n2), bound_shah_nk_list[i:] * np.exp(2 * kappa))\n",
    "plt.plot(bridge_list[i:] / (n1 * n2), bound_our_list[i:])\n",
    "plt.legend(['Real','Yan','Shah','Our'])\n",
    "plt.xlabel('bridge density')\n",
    "plt.ylabel('l-infinity error')\n",
    "# plt.savefig('barbell-2.pdf')"
   ]
  },
  {
   "cell_type": "code",
   "execution_count": null,
   "metadata": {},
   "outputs": [],
   "source": []
  },
  {
   "cell_type": "code",
   "execution_count": null,
   "metadata": {},
   "outputs": [],
   "source": []
  },
  {
   "cell_type": "code",
   "execution_count": null,
   "metadata": {},
   "outputs": [],
   "source": []
  },
  {
   "cell_type": "code",
   "execution_count": null,
   "metadata": {},
   "outputs": [],
   "source": []
  },
  {
   "cell_type": "code",
   "execution_count": 203,
   "metadata": {},
   "outputs": [],
   "source": [
    "def get_complete_adj(n = 50):\n",
    "    return np.ones((n,n)) - np.eye(n)\n",
    "\n",
    "def random_edge(n1, n2, edge):\n",
    "    index = np.random.choice(n1 * n2, edge, replace = False)\n",
    "    i1 = np.repeat(np.arange(n1), n2)[index]\n",
    "    i2 = np.tile(np.arange(n1), n2)[index]    \n",
    "    A = np.zeros((n1, n2))\n",
    "    A[i1,i2] = 1\n",
    "    return A\n",
    "\n",
    "def get_3island_adj(n = 100, n1 = 30, n2 = 70, n3 = 30, k = None):\n",
    "    if k is None:\n",
    "        k = n1 // 2\n",
    "    A = np.zeros((n,n))\n",
    "    A[:n1,:n1] = get_complete_adj(n = n1)\n",
    "    A[-n3:,-n3:] = get_complete_adj(n = n3)\n",
    "    A[k:k+n2,k:k+n2] = get_complete_adj(n = n2)\n",
    "    return A\n",
    "\n",
    "def get_island_adj(ni = 30, no = 5, k = 5, n = None):\n",
    "    if n == None:\n",
    "        n = ni * k - no * (k - 1)\n",
    "    else:\n",
    "        k = n // (ni - no) + 1\n",
    "    A = np.zeros((n,n))\n",
    "    for i in range(k):\n",
    "        s = (ni - no) * i\n",
    "        e = min(n, s + ni)\n",
    "        A[s:e,s:e] = get_complete_adj(n = e - s)\n",
    "    return A\n",
    "\n",
    "def lambda2_A(A):\n",
    "    n = A.shape[0]\n",
    "    La = np.diag(np.sum(A, axis = 0)) - A\n",
    "    lambdas = np.linalg.eigvalsh(La)\n",
    "    return lambdas[1], lambdas[-1]\n",
    "\n",
    "def min_n_ij(A):\n",
    "    return np.min(A @ A)"
   ]
  },
  {
   "cell_type": "code",
   "execution_count": 231,
   "metadata": {
    "scrolled": true
   },
   "outputs": [
    {
     "data": {
      "image/png": "[encoded data removed]",
      "text/plain": [
       "<Figure size 432x288 with 1 Axes>"
      ]
     },
     "metadata": {
      "needs_background": "light"
     },
     "output_type": "display_data"
    }
   ],
   "source": [
    "A = get_3island_adj()\n",
    "plt.imshow(A)\n",
    "plt.savefig('adj_3island.pdf')"
   ]
  },
  {
   "cell_type": "code",
   "execution_count": 232,
   "metadata": {},
   "outputs": [
    {
     "data": {
      "text/plain": [
       "0.0"
      ]
     },
     "execution_count": 232,
     "metadata": {},
     "output_type": "execute_result"
    }
   ],
   "source": [
    "min_n_ij(A)"
   ]
  },
  {
   "cell_type": "code",
   "execution_count": 233,
   "metadata": {},
   "outputs": [
    {
     "data": {
      "text/plain": [
       "11.921134470680464"
      ]
     },
     "execution_count": 233,
     "metadata": {},
     "output_type": "execute_result"
    }
   ],
   "source": [
    "lam2, lamn = lambda2_A(A)\n",
    "lam2"
   ]
  },
  {
   "cell_type": "code",
   "execution_count": null,
   "metadata": {},
   "outputs": [],
   "source": []
  },
  {
   "cell_type": "code",
   "execution_count": 234,
   "metadata": {
    "scrolled": false
   },
   "outputs": [
    {
     "data": {
      "image/png": "[encoded data removed]",
      "text/plain": [
       "<Figure size 432x288 with 1 Axes>"
      ]
     },
     "metadata": {
      "needs_background": "light"
     },
     "output_type": "display_data"
    }
   ],
   "source": [
    "A = get_island_adj(n = 120)\n",
    "plt.imshow(A)\n",
    "plt.savefig('adj_island.pdf')"
   ]
  },
  {
   "cell_type": "code",
   "execution_count": 235,
   "metadata": {},
   "outputs": [
    {
     "data": {
      "text/plain": [
       "0.0"
      ]
     },
     "execution_count": 235,
     "metadata": {},
     "output_type": "execute_result"
    }
   ],
   "source": [
    "min_n_ij(A)"
   ]
  },
  {
   "cell_type": "code",
   "execution_count": 236,
   "metadata": {
    "scrolled": true
   },
   "outputs": [
    {
     "data": {
      "text/plain": [
       "1.1929892762754417"
      ]
     },
     "execution_count": 236,
     "metadata": {},
     "output_type": "execute_result"
    }
   ],
   "source": [
    "lam2, lamn = lambda2_A(A)\n",
    "lam2"
   ]
  },
  {
   "cell_type": "code",
   "execution_count": 244,
   "metadata": {
    "scrolled": true
   },
   "outputs": [
    {
     "name": "stdout",
     "output_type": "stream",
     "text": [
      "1\n",
      "2\n",
      "4\n",
      "8\n",
      "12\n",
      "16\n",
      "20\n"
     ]
    }
   ],
   "source": [
    "ni = 30\n",
    "# bridge_list = np.arange(m) * 50\n",
    "theta_list = np.array([1,2,4,8,12,16,20])\n",
    "m = len(theta_list)\n",
    "B = 5\n",
    "\n",
    "lam2_list = np.zeros(m)\n",
    "min_n_ij_list = np.zeros(m)\n",
    "n_max_list = np.zeros(m)\n",
    "n_min_list = np.zeros(m)\n",
    "\n",
    "bound_yan_list = np.zeros(m)\n",
    "bound_shah_list = np.zeros(m)\n",
    "bound_our_list = np.zeros(m)\n",
    "bound_yan_nk_list = np.zeros(m)\n",
    "bound_shah_nk_list = np.zeros(m)\n",
    "bound_our_nk_list = np.zeros(m)\n",
    "\n",
    "std_yan_list = np.zeros(m)\n",
    "std_shah_list = np.zeros(m)\n",
    "std_our_list = np.zeros(m)\n",
    "std_yan_nk_list = np.zeros(m)\n",
    "std_shah_nk_list = np.zeros(m)\n",
    "std_our_nk_list = np.zeros(m)\n",
    "\n",
    "bar_yan_list = np.zeros((m,2))\n",
    "bar_shah_list = np.zeros((m,2))\n",
    "bar_our_list = np.zeros((m,2))\n",
    "bar_yan_nk_list = np.zeros((m,2))\n",
    "bar_shah_nk_list = np.zeros((m,2))\n",
    "bar_our_nk_list = np.zeros((m,2))\n",
    "\n",
    "bound_our_e_list = np.zeros(m)\n",
    "std_our_e_list = np.zeros(m)\n",
    "bar_our_e_list = np.zeros((m,2))\n",
    "\n",
    "n = 100\n",
    "# delta = np.log(n) / n\n",
    "t = 0.9\n",
    "kappa = np.log(t / (1 - t))\n",
    "delta = 1\n",
    "beta = get_beta_with_gap(n, delta)\n",
    "beta *= kappa / (np.max(beta) - np.min(beta))\n",
    "total = 5\n",
    "kappa_E = kappa * ni / n\n",
    "\n",
    "\n",
    "l0_beta_list = np.zeros(m)\n",
    "std_l0_beta_list = np.zeros(m)\n",
    "bar_l0_beta_list = np.zeros((m,2))\n",
    "rank_beta_list = np.zeros(m)\n",
    "topk_beta_list = np.zeros(m)\n",
    "\n",
    "np.random.seed(0)\n",
    "\n",
    "for ix, theta in enumerate(theta_list):\n",
    "    lam, n_ij = 0, 0\n",
    "    \n",
    "    l0_beta_, rank_beta_, topk_beta_ = np.zeros(B), np.zeros(B), np.zeros(B)\n",
    "    lam2_, n_ij_, n_max_, n_min_ = np.zeros(B), np.zeros(B), np.zeros(B), np.zeros(B)\n",
    "    bound_yan_, bound_shah_, bound_our_ = np.zeros(B), np.zeros(B), np.zeros(B)\n",
    "    bound_yan_nk_, bound_shah_nk_, bound_our_nk_ = np.zeros(B), np.zeros(B), np.zeros(B)\n",
    "    bound_our_e_ = np.zeros(B)\n",
    "    \n",
    "    for b in range(B):\n",
    "        A = get_island_adj(ni = ni, no = theta, n = n)\n",
    "        lam2_[b], n_ij_[b], n_max_[b], n_min_[b] = get_topo(A)\n",
    "        \n",
    "        edge_list = get_edge(A)\n",
    "        game_matrix = get_game_matrix(beta, edge_list, total)\n",
    "        \n",
    "        beta_hat = get_mle_reg(game_matrix)\n",
    "        l0_beta_[b], rank_beta_[b], topk_beta_[b] = get_error(beta, beta_hat, k = k)\n",
    "        \n",
    "        L = total\n",
    "#         bound_yan_[b] = get_bound_yan(kappa, n_ij_[b], n, L = total)\n",
    "        bound_shah_[b] = get_bound_shah(kappa, lam2_[b], n, L = total)\n",
    "        bound_our_[b] = get_bound_our(kappa, lam2_[b], n_max_[b], n_min_[b], n, L)\n",
    "        bound_our_e_[b] = get_bound_our(kappa_E, lam2_[b], n_max_[b], n_min_[b], n, L)\n",
    "        \n",
    "#         bound_yan_nk_[b] = get_bound_yan(kappa, n_ij_[b], n, L = total, no_kappa = True)\n",
    "        bound_shah_nk_[b] = get_bound_shah(kappa, lam2_[b], n, L = total, no_kappa = True)\n",
    "        bound_our_nk_[b] = get_bound_our(kappa, lam2_[b], n_max_[b], n_min_[b], n, L, no_kappa = True)\n",
    "                \n",
    "        \n",
    "    lam2_list[ix] = np.mean(lam2_)\n",
    "    min_n_ij_list[ix] = np.mean(n_ij_)\n",
    "    n_max_list[ix], n_min_list[ix] = np.mean(n_max_), np.mean(n_min_)\n",
    "#     bound_yan_list[ix] = np.mean(bound_yan_)\n",
    "    bound_shah_list[ix] = np.mean(bound_shah_)\n",
    "    bound_our_list[ix] = np.mean(bound_our_)\n",
    "    bound_our_e_list[ix] = np.mean(bound_our_e_)\n",
    "#     bound_yan_nk_list[ix] = np.mean(bound_yan_nk_)\n",
    "    bound_shah_nk_list[ix] = np.mean(bound_shah_nk_)\n",
    "    bound_our_nk_list[ix] = np.mean(bound_our_nk_)\n",
    "    \n",
    "#     std_yan_list[ix] = np.std(bound_yan_)\n",
    "    std_shah_list[ix] = np.std(bound_shah_)\n",
    "    std_our_list[ix] = np.std(bound_our_)\n",
    "    std_our_e_list[ix] = np.std(bound_our_e_)\n",
    "#     std_yan_nk_list[ix] = np.std(bound_yan_nk_)\n",
    "    std_shah_nk_list[ix] = np.std(bound_shah_nk_)\n",
    "    std_our_nk_list[ix] = np.std(bound_our_nk_)\n",
    "    \n",
    "#     bar_yan_list[ix,:] = np.quantile(bound_yan_, 0.05), np.quantile(bound_yan_, 0.95)\n",
    "    bar_shah_list[ix, :] = np.quantile(bound_shah_, 0.05), np.quantile(bound_shah_, 0.95)\n",
    "    bar_our_list[ix, :] = np.quantile(bound_our_, 0.05), np.quantile(bound_our_, 0.95)\n",
    "    bar_our_e_list[ix, :] = np.quantile(bound_our_e_, 0.05), np.quantile(bound_our_e_, 0.95)\n",
    "#     bar_yan_nk_list[ix, :] = np.quantile(bound_yan_nk_, 0.05), np.quantile(bound_yan_nk_, 0.95)\n",
    "    bar_shah_nk_list[ix, :] = np.quantile(bound_shah_nk_, 0.05), np.quantile(bound_shah_nk_, 0.95)\n",
    "    bar_our_nk_list[ix, :] = np.quantile(bound_our_nk_, 0.05), np.quantile(bound_our_nk_, 0.95)\n",
    "    \n",
    "    l0_beta_list[ix] = np.mean(l0_beta_)\n",
    "    std_l0_beta_list[ix] = np.std(l0_beta_)\n",
    "    bar_l0_beta_list[ix, :] = np.quantile(l0_beta_, 0.05), np.quantile(l0_beta_, 0.95)\n",
    "    \n",
    "    rank_beta_list = np.mean(rank_beta_)\n",
    "    topk_beta_list = np.mean(topk_beta_)    \n",
    "    \n",
    "    print(theta)"
   ]
  },
  {
   "cell_type": "code",
   "execution_count": 245,
   "metadata": {},
   "outputs": [
    {
     "data": {
      "text/plain": [
       "<matplotlib.image.AxesImage at 0x1fec6d63ac8>"
      ]
     },
     "execution_count": 245,
     "metadata": {},
     "output_type": "execute_result"
    },
    {
     "data": {
      "image/png": "[encoded data removed]",
      "text/plain": [
       "<Figure size 432x288 with 1 Axes>"
      ]
     },
     "metadata": {
      "needs_background": "light"
     },
     "output_type": "display_data"
    }
   ],
   "source": [
    "plt.imshow(A)"
   ]
  },
  {
   "cell_type": "code",
   "execution_count": 247,
   "metadata": {},
   "outputs": [
    {
     "data": {
      "text/plain": [
       "[<matplotlib.lines.Line2D at 0x1fec6e5bbc8>]"
      ]
     },
     "execution_count": 247,
     "metadata": {},
     "output_type": "execute_result"
    },
    {
     "data": {
      "image/png": "[encoded data removed]",
      "text/plain": [
       "<Figure size 432x288 with 1 Axes>"
      ]
     },
     "metadata": {
      "needs_background": "light"
     },
     "output_type": "display_data"
    }
   ],
   "source": [
    "plt.plot(n_max_list / n_min_list)"
   ]
  },
  {
   "cell_type": "code",
   "execution_count": 227,
   "metadata": {
    "scrolled": true
   },
   "outputs": [
    {
     "data": {
      "image/png": "[encoded data removed]",
      "text/plain": [
       "<Figure size 432x288 with 1 Axes>"
      ]
     },
     "metadata": {
      "needs_background": "light"
     },
     "output_type": "display_data"
    }
   ],
   "source": [
    "# plt.fill_between(bridge_list / (n1 * n2), l0_beta_list - 2*std_l0_beta_list, l0_beta_list + 2*std_l0_beta_list, alpha = 0.2)\n",
    "plt.fill_between(theta_list, bar_l0_beta_list[:,0], bar_l0_beta_list[:,1], alpha = 0.2)\n",
    "plt.plot(theta_list, l0_beta_list)\n",
    "plt.xlabel('overlap')\n",
    "plt.ylabel('l-infinity error')\n",
    "plt.savefig('real_island.pdf')"
   ]
  },
  {
   "cell_type": "code",
   "execution_count": 73,
   "metadata": {},
   "outputs": [
    {
     "data": {
      "text/plain": [
       "1.1051709180756477"
      ]
     },
     "execution_count": 73,
     "metadata": {},
     "output_type": "execute_result"
    }
   ],
   "source": [
    "np.exp(0.1)"
   ]
  },
  {
   "cell_type": "code",
   "execution_count": 74,
   "metadata": {},
   "outputs": [
    {
     "data": {
      "text/plain": [
       "9.000000000000002"
      ]
     },
     "execution_count": 74,
     "metadata": {},
     "output_type": "execute_result"
    }
   ],
   "source": [
    "np.exp(kappa)"
   ]
  },
  {
   "cell_type": "code",
   "execution_count": 75,
   "metadata": {},
   "outputs": [
    {
     "data": {
      "text/plain": [
       "[<matplotlib.lines.Line2D at 0x1fec2df8e48>]"
      ]
     },
     "execution_count": 75,
     "metadata": {},
     "output_type": "execute_result"
    },
    {
     "data": {
      "image/png": "[encoded data removed]",
      "text/plain": [
       "<Figure size 432x288 with 1 Axes>"
      ]
     },
     "metadata": {
      "needs_background": "light"
     },
     "output_type": "display_data"
    }
   ],
   "source": [
    "plt.plot(l0_beta_list)"
   ]
  },
  {
   "cell_type": "code",
   "execution_count": 250,
   "metadata": {},
   "outputs": [
    {
     "data": {
      "image/png": "[encoded data removed]",
      "text/plain": [
       "<Figure size 432x288 with 1 Axes>"
      ]
     },
     "metadata": {
      "needs_background": "light"
     },
     "output_type": "display_data"
    }
   ],
   "source": [
    "# plt.fill_between(bridge_list / (n1 * n2), l0_beta_list - 2*std_l0_beta_list, l0_beta_list + 2*std_l0_beta_list, alpha = 0.2)\n",
    "plt.fill_between(theta_list, bar_l0_beta_list[:,0], bar_l0_beta_list[:,1], alpha = 0.2)\n",
    "plt.plot(theta_list, l0_beta_list)\n",
    "# plt.fill_between(bridge_list / (n1 * n2), bar_yan_list[:,0], bar_yan_list[:,1], alpha = 0.2)\n",
    "# plt.plot(bridge_list / (n1 * n2), bound_yan_list)\n",
    "plt.fill_between(theta_list, bar_our_list[:,0], bar_our_list[:,1], alpha = 0.2)\n",
    "plt.plot(theta_list, bound_our_list)\n",
    "plt.fill_between(theta_list, bar_our_e_list[:,0], bar_our_e_list[:,1], alpha = 0.2)\n",
    "plt.plot(theta_list, bound_our_e_list)\n",
    "# plt.legend(['Real','Yan','Shah','Our'])\n",
    "plt.legend(['Real',\n",
    "            \n",
    "            'Our-kappa','Our-kappa_E'])\n",
    "plt.xlabel('overlap')\n",
    "plt.ylabel('l-infinity error')\n",
    "plt.savefig('error_island.pdf')"
   ]
  },
  {
   "cell_type": "code",
   "execution_count": 249,
   "metadata": {},
   "outputs": [
    {
     "data": {
      "image/png": "[encoded data removed]",
      "text/plain": [
       "<Figure size 432x288 with 1 Axes>"
      ]
     },
     "metadata": {
      "needs_background": "light"
     },
     "output_type": "display_data"
    }
   ],
   "source": [
    "# plt.fill_between(bridge_list / (n1 * n2), l0_beta_list - 2*std_l0_beta_list, l0_beta_list + 2*std_l0_beta_list, alpha = 0.2)\n",
    "plt.fill_between(theta_list, bar_l0_beta_list[:,0], bar_l0_beta_list[:,1], alpha = 0.2)\n",
    "plt.plot(theta_list, l0_beta_list)\n",
    "# plt.fill_between(bridge_list / (n1 * n2), bar_yan_list[:,0], bar_yan_list[:,1], alpha = 0.2)\n",
    "# plt.plot(bridge_list / (n1 * n2), bound_yan_list)\n",
    "plt.fill_between(theta_list, bar_shah_list[:,0], bar_shah_list[:,1], alpha = 0.2)\n",
    "plt.plot(theta_list, bound_shah_list)\n",
    "plt.fill_between(theta_list, bar_our_list[:,0], bar_our_list[:,1], alpha = 0.2)\n",
    "plt.plot(theta_list, bound_our_list)\n",
    "# plt.legend(['Real','Yan','Shah','Our'])\n",
    "plt.legend(['Real','Shah','Our'])\n",
    "plt.xlabel('overlap')\n",
    "plt.ylabel('l-infinity error')\n",
    "plt.savefig('error_island-backup.pdf')"
   ]
  },
  {
   "cell_type": "code",
   "execution_count": 229,
   "metadata": {},
   "outputs": [
    {
     "data": {
      "image/png": "[encoded data removed]",
      "text/plain": [
       "<Figure size 432x288 with 1 Axes>"
      ]
     },
     "metadata": {
      "needs_background": "light"
     },
     "output_type": "display_data"
    }
   ],
   "source": [
    "i = 4\n",
    "# plt.fill_between(bridge_list / (n1 * n2), l0_beta_list - 2*std_l0_beta_list, l0_beta_list + 2*std_l0_beta_list, alpha = 0.2)\n",
    "plt.fill_between(theta_list[i:], bar_l0_beta_list[i:,0], bar_l0_beta_list[i:,1], alpha = 0.2)\n",
    "plt.plot(theta_list[i:], l0_beta_list[i:])\n",
    "# plt.fill_between(bridge_list / (n1 * n2), bar_yan_list[:,0], bar_yan_list[:,1], alpha = 0.2)\n",
    "# plt.plot(bridge_list / (n1 * n2), bound_yan_list)\n",
    "# plt.plot(bridge_list / (n1 * n2), bound_shah_list)\n",
    "# plt.fill_between(theta_list[i:], bar_our_list[i:,0], bar_our_list[i:,1], alpha = 0.2)\n",
    "plt.fill_between(theta_list[i:], bound_our_list[i:] - std_our_list[i:], bound_our_list[i:] + std_our_list[i:], alpha = 0.2)\n",
    "plt.plot(theta_list[i:], bound_our_list[i:])\n",
    "# plt.legend(['Real','Yan','Shah','Our'])\n",
    "plt.legend(['Real','Our'])\n",
    "plt.xlabel('overlap')\n",
    "plt.ylabel('l-infinity error')\n",
    "plt.savefig('error_island-2.pdf')"
   ]
  },
  {
   "cell_type": "code",
   "execution_count": 217,
   "metadata": {},
   "outputs": [
    {
     "data": {
      "text/plain": [
       "array([9.09494702e-13, 2.27373675e-13, 1.13686838e-13, 1.13686838e-13,\n",
       "       2.84217094e-14, 0.00000000e+00, 0.00000000e+00])"
      ]
     },
     "execution_count": 217,
     "metadata": {},
     "output_type": "execute_result"
    }
   ],
   "source": [
    "std_our_list"
   ]
  },
  {
   "cell_type": "code",
   "execution_count": 126,
   "metadata": {},
   "outputs": [
    {
     "data": {
      "text/plain": [
       "Text(0, 0.5, 'l-infinity error')"
      ]
     },
     "execution_count": 126,
     "metadata": {},
     "output_type": "execute_result"
    },
    {
     "data": {
      "image/png": "[encoded data removed]",
      "text/plain": [
       "<Figure size 432x288 with 1 Axes>"
      ]
     },
     "metadata": {
      "needs_background": "light"
     },
     "output_type": "display_data"
    }
   ],
   "source": [
    "plt.plot(bridge_list / (n1 * n2), l0_beta_list)\n",
    "plt.plot(bridge_list / (n1 * n2), bound_yan_list)\n",
    "plt.plot(bridge_list / (n1 * n2), bound_shah_list)\n",
    "plt.plot(bridge_list / (n1 * n2), bound_our_list)\n",
    "plt.legend(['Real','Yan','Shah','Our'])\n",
    "plt.xlabel('bridge density')\n",
    "plt.ylabel('l-infinity error')\n",
    "# plt.savefig('barbell-1.pdf')"
   ]
  },
  {
   "cell_type": "code",
   "execution_count": 167,
   "metadata": {},
   "outputs": [
    {
     "data": {
      "text/plain": [
       "Text(0, 0.5, 'l-infinity error')"
      ]
     },
     "execution_count": 167,
     "metadata": {},
     "output_type": "execute_result"
    },
    {
     "data": {
      "image/png": "[encoded data removed]",
      "text/plain": [
       "<Figure size 432x288 with 1 Axes>"
      ]
     },
     "metadata": {
      "needs_background": "light"
     },
     "output_type": "display_data"
    }
   ],
   "source": [
    "# plt.fill_between(bridge_list / (n1 * n2), l0_beta_list - 2*std_l0_beta_list, l0_beta_list + 2*std_l0_beta_list, alpha = 0.2)\n",
    "plt.fill_between(bridge_list / (n1 * n2), bar_l0_beta_list[:,0], bar_l0_beta_list[:,1], alpha = 0.2)\n",
    "plt.plot(bridge_list / (n1 * n2), l0_beta_list)\n",
    "plt.fill_between(bridge_list / (n1 * n2), bar_yan_list[:,0], bar_yan_list[:,1], alpha = 0.2)\n",
    "plt.plot(bridge_list / (n1 * n2), bound_yan_list)\n",
    "plt.fill_between(bridge_list / (n1 * n2), bar_shah_list[:,0], bar_shah_list[:,1], alpha = 0.2)\n",
    "plt.plot(bridge_list / (n1 * n2), bound_shah_list)\n",
    "plt.fill_between(bridge_list / (n1 * n2), bar_our_list[:,0], bar_our_list[:,1], alpha = 0.2)\n",
    "plt.plot(bridge_list / (n1 * n2), bound_our_list)\n",
    "plt.legend(['Real','Yan','Shah','Our'])\n",
    "# plt.legend(['Real','Yan','Our'])\n",
    "plt.xlabel('bridge density')\n",
    "plt.ylabel('l-infinity error')\n",
    "# plt.savefig('barbell-1.pdf')"
   ]
  },
  {
   "cell_type": "code",
   "execution_count": 168,
   "metadata": {},
   "outputs": [
    {
     "data": {
      "text/plain": [
       "Text(0, 0.5, 'l-infinity error')"
      ]
     },
     "execution_count": 168,
     "metadata": {},
     "output_type": "execute_result"
    },
    {
     "data": {
      "image/png": "[encoded data removed]",
      "text/plain": [
       "<Figure size 432x288 with 1 Axes>"
      ]
     },
     "metadata": {
      "needs_background": "light"
     },
     "output_type": "display_data"
    }
   ],
   "source": [
    "# plt.fill_between(bridge_list / (n1 * n2), l0_beta_list - 2*std_l0_beta_list, l0_beta_list + 2*std_l0_beta_list, alpha = 0.2)\n",
    "plt.fill_between(bridge_list / (n1 * n2), bar_l0_beta_list[:,0], bar_l0_beta_list[:,1], alpha = 0.2)\n",
    "plt.plot(bridge_list / (n1 * n2), l0_beta_list)\n",
    "plt.fill_between(bridge_list / (n1 * n2), bar_yan_nk_list[:,0], bar_yan_nk_list[:,1], alpha = 0.2)\n",
    "plt.plot(bridge_list / (n1 * n2), bound_yan_nk_list)\n",
    "plt.fill_between(bridge_list / (n1 * n2), bar_shah_nk_list[:,0], bar_shah_nk_list[:,1], alpha = 0.2)\n",
    "plt.plot(bridge_list / (n1 * n2), bound_shah_nk_list)\n",
    "plt.fill_between(bridge_list / (n1 * n2), bar_our_nk_list[:,0], bar_our_nk_list[:,1], alpha = 0.2)\n",
    "plt.plot(bridge_list / (n1 * n2), bound_our_nk_list)\n",
    "plt.legend(['Real','Yan','Shah','Our'])\n",
    "# plt.legend(['Real','Yan','Our'])\n",
    "plt.xlabel('bridge density')\n",
    "plt.ylabel('l-infinity error')\n",
    "# plt.savefig('barbell-1.pdf')"
   ]
  },
  {
   "cell_type": "code",
   "execution_count": 77,
   "metadata": {},
   "outputs": [
    {
     "data": {
      "text/plain": [
       "14"
      ]
     },
     "execution_count": 77,
     "metadata": {},
     "output_type": "execute_result"
    }
   ],
   "source": [
    "len(bridge_list)"
   ]
  },
  {
   "cell_type": "code",
   "execution_count": 170,
   "metadata": {},
   "outputs": [
    {
     "data": {
      "text/plain": [
       "Text(0, 0.5, 'l-infinity error')"
      ]
     },
     "execution_count": 170,
     "metadata": {},
     "output_type": "execute_result"
    },
    {
     "data": {
      "image/png": "[encoded data removed]",
      "text/plain": [
       "<Figure size 432x288 with 1 Axes>"
      ]
     },
     "metadata": {
      "needs_background": "light"
     },
     "output_type": "display_data"
    }
   ],
   "source": [
    "i = 10\n",
    "# plt.fill_between(bridge_list / (n1 * n2), l0_beta_list - 2*std_l0_beta_list, l0_beta_list + 2*std_l0_beta_list, alpha = 0.2)\n",
    "plt.fill_between(bridge_list[i:] / (n1 * n2), bar_l0_beta_list[i:,0], bar_l0_beta_list[i:,1], alpha = 0.2)\n",
    "plt.plot(bridge_list[i:] / (n1 * n2), l0_beta_list[i:])\n",
    "plt.fill_between(bridge_list[i:] / (n1 * n2), bar_yan_nk_list[i:,0], bar_yan_nk_list[i:,1], alpha = 0.2)\n",
    "plt.plot(bridge_list[i:] / (n1 * n2), bound_yan_nk_list[i:])\n",
    "plt.fill_between(bridge_list[i:] / (n1 * n2), bar_shah_nk_list[i:,0], bar_shah_nk_list[i:,1], alpha = 0.2)\n",
    "plt.plot(bridge_list[i:] / (n1 * n2), bound_shah_nk_list[i:])\n",
    "plt.fill_between(bridge_list[i:] / (n1 * n2), bar_our_nk_list[i:,0], bar_our_nk_list[i:,1], alpha = 0.2)\n",
    "plt.plot(bridge_list[i:] / (n1 * n2), bound_our_nk_list[i:])\n",
    "plt.legend(['Real','Yan','Shah','Our'])\n",
    "# plt.legend(['Real','Yan','Our'])\n",
    "plt.xlabel('bridge density')\n",
    "plt.ylabel('l-infinity error')\n",
    "# plt.savefig('barbell-1.pdf')"
   ]
  },
  {
   "cell_type": "code",
   "execution_count": 134,
   "metadata": {
    "scrolled": false
   },
   "outputs": [
    {
     "data": {
      "text/plain": [
       "Text(0, 0.5, 'l-infinity error')"
      ]
     },
     "execution_count": 134,
     "metadata": {},
     "output_type": "execute_result"
    },
    {
     "data": {
      "image/png": "[encoded data removed]",
      "text/plain": [
       "<Figure size 432x288 with 1 Axes>"
      ]
     },
     "metadata": {
      "needs_background": "light"
     },
     "output_type": "display_data"
    }
   ],
   "source": [
    "i = 10\n",
    "plt.plot(bridge_list[i:] / (n1 * n2), l0_beta_list[i:])\n",
    "plt.plot(bridge_list[i:] / (n1 * n2), bound_yan_list[i:])\n",
    "plt.plot(bridge_list[i:] / (n1 * n2), bound_shah_nk_list[i:] * np.exp(2 * kappa))\n",
    "plt.plot(bridge_list[i:] / (n1 * n2), bound_our_list[i:])\n",
    "plt.legend(['Real','Yan','Shah','Our'])\n",
    "plt.xlabel('bridge density')\n",
    "plt.ylabel('l-infinity error')\n",
    "# plt.savefig('barbell-2.pdf')"
   ]
  },
  {
   "cell_type": "code",
   "execution_count": null,
   "metadata": {},
   "outputs": [],
   "source": []
  },
  {
   "cell_type": "code",
   "execution_count": null,
   "metadata": {},
   "outputs": [],
   "source": []
  },
  {
   "cell_type": "code",
   "execution_count": 103,
   "metadata": {},
   "outputs": [],
   "source": []
  },
  {
   "cell_type": "code",
   "execution_count": 148,
   "metadata": {
    "scrolled": true
   },
   "outputs": [
    {
     "name": "stderr",
     "output_type": "stream",
     "text": [
      "c:\\python\\lib\\site-packages\\ipykernel_launcher.py:66: RuntimeWarning: divide by zero encountered in double_scalars\n",
      "c:\\python\\lib\\site-packages\\ipykernel_launcher.py:64: RuntimeWarning: divide by zero encountered in double_scalars\n",
      "c:\\python\\lib\\site-packages\\numpy\\core\\_methods.py:229: RuntimeWarning: invalid value encountered in subtract\n",
      "  x = asanyarray(arr - arrmean)\n",
      "c:\\python\\lib\\site-packages\\numpy\\lib\\function_base.py:3961: RuntimeWarning: invalid value encountered in subtract\n",
      "  diff_b_a = subtract(b, a)\n"
     ]
    },
    {
     "name": "stdout",
     "output_type": "stream",
     "text": [
      "0.004\n",
      "0.01\n",
      "0.02\n",
      "0.03\n",
      "0.04\n",
      "0.08\n",
      "0.12\n",
      "0.16\n",
      "0.2\n",
      "0.32\n",
      "0.48\n",
      "0.64\n",
      "0.8\n",
      "0.96\n"
     ]
    }
   ],
   "source": [
    "n1, n2 = 50, 50\n",
    "# bridge_list = np.arange(m) * 50\n",
    "bridge_list = np.array([10, 25, 50, 75, 100, 200, 300, 400, 500, 800, 1200, 1600, 2000, 2400])\n",
    "m = len(bridge_list)\n",
    "B = 20\n",
    "\n",
    "lam2_list = np.zeros(m)\n",
    "min_n_ij_list = np.zeros(m)\n",
    "n_max_list = np.zeros(m)\n",
    "n_min_list = np.zeros(m)\n",
    "\n",
    "bound_yan_list = np.zeros(m)\n",
    "bound_shah_list = np.zeros(m)\n",
    "bound_our_list = np.zeros(m)\n",
    "bound_yan_nk_list = np.zeros(m)\n",
    "bound_shah_nk_list = np.zeros(m)\n",
    "bound_our_nk_list = np.zeros(m)\n",
    "\n",
    "std_yan_list = np.zeros(m)\n",
    "std_shah_list = np.zeros(m)\n",
    "std_our_list = np.zeros(m)\n",
    "std_yan_nk_list = np.zeros(m)\n",
    "std_shah_nk_list = np.zeros(m)\n",
    "std_our_nk_list = np.zeros(m)\n",
    "\n",
    "bar_yan_list = np.zeros((m,2))\n",
    "bar_shah_list = np.zeros((m,2))\n",
    "bar_our_list = np.zeros((m,2))\n",
    "bar_yan_nk_list = np.zeros((m,2))\n",
    "bar_shah_nk_list = np.zeros((m,2))\n",
    "bar_our_nk_list = np.zeros((m,2))\n",
    "\n",
    "bound_agar_list = np.zeros(m)\n",
    "std_agar_list = np.zeros(m)\n",
    "bar_agar_list = np.zeros((m,2))\n",
    "bound_agar_list = np.zeros(m)\n",
    "std_agar_list = np.zeros(m)\n",
    "bar_agar_list = np.zeros((m,2))\n",
    "\n",
    "n = n1 + n2\n",
    "# delta = np.log(n) / n\n",
    "k = 10\n",
    "t = 0.9\n",
    "kappa = np.log(t / (1 - t))\n",
    "delta = 1\n",
    "beta = get_beta_with_gap(n, delta)\n",
    "beta *= kappa / (np.max(beta) - np.min(beta))\n",
    "total = 5\n",
    "\n",
    "w = np.exp(beta)\n",
    "w /= np.sum(w)\n",
    "d_avg_list = np.zeros(m)\n",
    "\n",
    "\n",
    "l0_beta_list = np.zeros(m)\n",
    "std_l0_beta_list = np.zeros(m)\n",
    "bar_l0_beta_list = np.zeros((m,2))\n",
    "rank_beta_list = np.zeros(m)\n",
    "topk_beta_list = np.zeros(m)\n",
    "\n",
    "np.random.seed(0)\n",
    "\n",
    "for ix, bridge in enumerate(bridge_list):\n",
    "    lam, n_ij = 0, 0\n",
    "    \n",
    "    l0_beta_, rank_beta_, topk_beta_ = np.zeros(B), np.zeros(B), np.zeros(B)\n",
    "    lam2_, n_ij_, n_max_, n_min_ = np.zeros(B), np.zeros(B), np.zeros(B), np.zeros(B)\n",
    "    bound_yan_, bound_shah_, bound_our_ = np.zeros(B), np.zeros(B), np.zeros(B)\n",
    "    bound_yan_nk_, bound_shah_nk_, bound_our_nk_ = np.zeros(B), np.zeros(B), np.zeros(B)\n",
    "    bound_agar_, bound_agar_nk_ = np.zeros(B), np.zeros(B)\n",
    "    \n",
    "    for b in range(B):\n",
    "        A = get_barbell_adj(n1 = n1, n2 = n2, bridge = bridge)\n",
    "        lam2_[b], n_ij_[b], n_max_[b], n_min_[b] = get_topo(A)\n",
    "        d\n",
    "        \n",
    "        edge_list = get_edge(A)\n",
    "        game_matrix = get_game_matrix(beta, edge_list, total)\n",
    "        \n",
    "        beta_hat = get_mle_reg(game_matrix)\n",
    "        l0_beta_[b], rank_beta_[b], topk_beta_[b] = get_error(beta, beta_hat, k = k)\n",
    "        \n",
    "        L = total\n",
    "        bound_yan_[b] = get_bound_yan(kappa, n_ij_[b], n, L = total)\n",
    "        bound_shah_[b] = get_bound_shah(kappa, lam2_[b], n, L = total)\n",
    "        bound_our_[b] = get_bound_our(kappa, lam2_[b], n_max_[b], n_min_[b], n, L)\n",
    "        \n",
    "        bound_yan_nk_[b] = get_bound_yan(kappa, n_ij_[b], n, L = total, no_kappa = True)\n",
    "        bound_shah_nk_[b] = get_bound_shah(kappa, lam2_[b], n, L = total, no_kappa = True)\n",
    "        bound_our_nk_[b] = get_bound_our(kappa, lam2_[b], n_max_[b], n_min_[b], n, L, no_kappa = True)\n",
    "        \n",
    "        \n",
    "        \n",
    "    lam2_list[ix] = np.mean(lam2_)\n",
    "    min_n_ij_list[ix] = np.mean(n_ij_)\n",
    "    n_max_list[ix], n_min_list[ix] = np.mean(n_max_), np.mean(n_min_)\n",
    "    bound_yan_list[ix] = np.mean(bound_yan_)\n",
    "    bound_shah_list[ix] = np.mean(bound_shah_)\n",
    "    bound_our_list[ix] = np.mean(bound_our_)\n",
    "    bound_yan_nk_list[ix] = np.mean(bound_yan_nk_)\n",
    "    bound_shah_nk_list[ix] = np.mean(bound_shah_nk_)\n",
    "    bound_our_nk_list[ix] = np.mean(bound_our_nk_)\n",
    "    \n",
    "    std_yan_list[ix] = np.std(bound_yan_)\n",
    "    std_shah_list[ix] = np.std(bound_shah_)\n",
    "    std_our_list[ix] = np.std(bound_our_)\n",
    "    std_yan_nk_list[ix] = np.std(bound_yan_nk_)\n",
    "    std_shah_nk_list[ix] = np.std(bound_shah_nk_)\n",
    "    std_our_nk_list[ix] = np.std(bound_our_nk_)\n",
    "    \n",
    "    bar_yan_list[ix,:] = np.quantile(bound_yan_, 0.05), np.quantile(bound_yan_, 0.95)\n",
    "    bar_shah_list[ix, :] = np.quantile(bound_shah_, 0.05), np.quantile(bound_shah_, 0.95)\n",
    "    bar_our_list[ix, :] = np.quantile(bound_our_, 0.05), np.quantile(bound_our_, 0.95)\n",
    "    bar_yan_nk_list[ix, :] = np.quantile(bound_yan_nk_, 0.05), np.quantile(bound_yan_nk_, 0.95)\n",
    "    bar_shah_nk_list[ix, :] = np.quantile(bound_shah_nk_, 0.05), np.quantile(bound_shah_nk_, 0.95)\n",
    "    bar_our_nk_list[ix, :] = np.quantile(bound_our_nk_, 0.05), np.quantile(bound_our_nk_, 0.95)\n",
    "    \n",
    "    l0_beta_list[ix] = np.mean(l0_beta_)\n",
    "    std_l0_beta_list[ix] = np.std(l0_beta_)\n",
    "    bar_l0_beta_list[ix, :] = np.quantile(l0_beta_, 0.05), np.quantile(l0_beta_, 0.95)\n",
    "    \n",
    "    rank_beta_list = np.mean(rank_beta_)\n",
    "    topk_beta_list = np.mean(topk_beta_)    \n",
    "    \n",
    "    print(bridge / (n1 * n2))"
   ]
  },
  {
   "cell_type": "code",
   "execution_count": 70,
   "metadata": {
    "scrolled": true
   },
   "outputs": [
    {
     "data": {
      "text/plain": [
       "array([          inf,           inf,           inf,           inf,\n",
       "                 inf,           inf, 1297.00093616,  640.67728783,\n",
       "        426.02020167,  208.47379834,  108.83084738,   72.28964191,\n",
       "         52.73630414,   39.89668645])"
      ]
     },
     "execution_count": 70,
     "metadata": {},
     "output_type": "execute_result"
    }
   ],
   "source": [
    "bound_yan_list"
   ]
  },
  {
   "cell_type": "code",
   "execution_count": 71,
   "metadata": {},
   "outputs": [
    {
     "data": {
      "text/plain": [
       "array([-1.09861229, -1.0764181 , -1.05422391, -1.03202973, -1.00983554,\n",
       "       -0.98764135, -0.96544716, -0.94325298, -0.92105879, -0.8988646 ,\n",
       "       -0.87667041, -0.85447622, -0.83228204, -0.81008785, -0.78789366,\n",
       "       -0.76569947, -0.74350529, -0.7213111 , -0.69911691, -0.67692272,\n",
       "       -0.65472854, -0.63253435, -0.61034016, -0.58814597, -0.56595179,\n",
       "       -0.5437576 , -0.52156341, -0.49936922, -0.47717503, -0.45498085,\n",
       "       -0.43278666, -0.41059247, -0.38839828, -0.3662041 , -0.34400991,\n",
       "       -0.32181572, -0.29962153, -0.27742735, -0.25523316, -0.23303897,\n",
       "       -0.21084478, -0.1886506 , -0.16645641, -0.14426222, -0.12206803,\n",
       "       -0.09987384, -0.07767966, -0.05548547, -0.03329128, -0.01109709,\n",
       "        0.01109709,  0.03329128,  0.05548547,  0.07767966,  0.09987384,\n",
       "        0.12206803,  0.14426222,  0.16645641,  0.1886506 ,  0.21084478,\n",
       "        0.23303897,  0.25523316,  0.27742735,  0.29962153,  0.32181572,\n",
       "        0.34400991,  0.3662041 ,  0.38839828,  0.41059247,  0.43278666,\n",
       "        0.45498085,  0.47717503,  0.49936922,  0.52156341,  0.5437576 ,\n",
       "        0.56595179,  0.58814597,  0.61034016,  0.63253435,  0.65472854,\n",
       "        0.67692272,  0.69911691,  0.7213111 ,  0.74350529,  0.76569947,\n",
       "        0.78789366,  0.81008785,  0.83228204,  0.85447622,  0.87667041,\n",
       "        0.8988646 ,  0.92105879,  0.94325298,  0.96544716,  0.98764135,\n",
       "        1.00983554,  1.03202973,  1.05422391,  1.0764181 ,  1.09861229])"
      ]
     },
     "execution_count": 71,
     "metadata": {},
     "output_type": "execute_result"
    }
   ],
   "source": [
    "delta = 1\n",
    "beta = get_beta_with_gap(n, delta)\n",
    "beta *= kappa / (np.max(beta) - np.min(beta))\n",
    "beta"
   ]
  },
  {
   "cell_type": "code",
   "execution_count": 165,
   "metadata": {
    "scrolled": true
   },
   "outputs": [
    {
     "data": {
      "image/png": "[encoded data removed]",
      "text/plain": [
       "<Figure size 432x288 with 1 Axes>"
      ]
     },
     "metadata": {
      "needs_background": "light"
     },
     "output_type": "display_data"
    }
   ],
   "source": [
    "# plt.fill_between(bridge_list / (n1 * n2), l0_beta_list - 2*std_l0_beta_list, l0_beta_list + 2*std_l0_beta_list, alpha = 0.2)\n",
    "plt.fill_between(bridge_list / (n1 * n2), bar_l0_beta_list[:,0], bar_l0_beta_list[:,1], alpha = 0.2)\n",
    "plt.plot(bridge_list / (n1 * n2), l0_beta_list)\n",
    "plt.xlabel('bridge density')\n",
    "plt.ylabel('l-infinity error')\n",
    "plt.savefig('barbell-3.pdf')"
   ]
  },
  {
   "cell_type": "code",
   "execution_count": 73,
   "metadata": {},
   "outputs": [
    {
     "data": {
      "text/plain": [
       "1.1051709180756477"
      ]
     },
     "execution_count": 73,
     "metadata": {},
     "output_type": "execute_result"
    }
   ],
   "source": [
    "np.exp(0.1)"
   ]
  },
  {
   "cell_type": "code",
   "execution_count": 74,
   "metadata": {},
   "outputs": [
    {
     "data": {
      "text/plain": [
       "9.000000000000002"
      ]
     },
     "execution_count": 74,
     "metadata": {},
     "output_type": "execute_result"
    }
   ],
   "source": [
    "np.exp(kappa)"
   ]
  },
  {
   "cell_type": "code",
   "execution_count": 75,
   "metadata": {},
   "outputs": [
    {
     "data": {
      "text/plain": [
       "[<matplotlib.lines.Line2D at 0x1fec2df8e48>]"
      ]
     },
     "execution_count": 75,
     "metadata": {},
     "output_type": "execute_result"
    },
    {
     "data": {
      "image/png": "[encoded data removed]",
      "text/plain": [
       "<Figure size 432x288 with 1 Axes>"
      ]
     },
     "metadata": {
      "needs_background": "light"
     },
     "output_type": "display_data"
    }
   ],
   "source": [
    "plt.plot(l0_beta_list)"
   ]
  },
  {
   "cell_type": "code",
   "execution_count": 164,
   "metadata": {},
   "outputs": [
    {
     "data": {
      "image/png": "[encoded data removed]",
      "text/plain": [
       "<Figure size 432x288 with 1 Axes>"
      ]
     },
     "metadata": {
      "needs_background": "light"
     },
     "output_type": "display_data"
    }
   ],
   "source": [
    "# plt.fill_between(bridge_list / (n1 * n2), l0_beta_list - 2*std_l0_beta_list, l0_beta_list + 2*std_l0_beta_list, alpha = 0.2)\n",
    "plt.fill_between(bridge_list / (n1 * n2), bar_l0_beta_list[:,0], bar_l0_beta_list[:,1], alpha = 0.2)\n",
    "plt.plot(bridge_list / (n1 * n2), l0_beta_list)\n",
    "plt.fill_between(bridge_list / (n1 * n2), bar_yan_list[:,0], bar_yan_list[:,1], alpha = 0.2)\n",
    "plt.plot(bridge_list / (n1 * n2), bound_yan_list)\n",
    "# plt.plot(bridge_list / (n1 * n2), bound_shah_list)\n",
    "plt.fill_between(bridge_list / (n1 * n2), bar_our_list[:,0], bar_our_list[:,1], alpha = 0.2)\n",
    "plt.plot(bridge_list / (n1 * n2), bound_our_list)\n",
    "# plt.legend(['Real','Yan','Shah','Our'])\n",
    "plt.legend(['Real','Yan','Our'])\n",
    "plt.xlabel('bridge density')\n",
    "plt.ylabel('l-infinity error')\n",
    "plt.savefig('barbell-1.pdf')"
   ]
  },
  {
   "cell_type": "code",
   "execution_count": 163,
   "metadata": {},
   "outputs": [
    {
     "data": {
      "image/png": "[encoded data removed]",
      "text/plain": [
       "<Figure size 432x288 with 1 Axes>"
      ]
     },
     "metadata": {
      "needs_background": "light"
     },
     "output_type": "display_data"
    }
   ],
   "source": [
    "i = 10\n",
    "# plt.fill_between(bridge_list / (n1 * n2), l0_beta_list - 2*std_l0_beta_list, l0_beta_list + 2*std_l0_beta_list, alpha = 0.2)\n",
    "plt.fill_between(bridge_list[i:] / (n1 * n2), bar_l0_beta_list[i:,0], bar_l0_beta_list[i:,1], alpha = 0.2)\n",
    "plt.plot(bridge_list[i:] / (n1 * n2), l0_beta_list[i:])\n",
    "plt.fill_between(bridge_list[i:] / (n1 * n2), bar_yan_list[i:,0], bar_yan_list[i:,1], alpha = 0.2)\n",
    "plt.plot(bridge_list[i:] / (n1 * n2), bound_yan_list[i:])\n",
    "# plt.plot(bridge_list / (n1 * n2), bound_shah_list)\n",
    "plt.fill_between(bridge_list[i:] / (n1 * n2), bar_our_list[i:,0], bar_our_list[i:,1], alpha = 0.2)\n",
    "plt.plot(bridge_list[i:] / (n1 * n2), bound_our_list[i:])\n",
    "# plt.legend(['Real','Yan','Shah','Our'])\n",
    "plt.legend(['Real','Yan','Our'])\n",
    "plt.xlabel('bridge density')\n",
    "plt.ylabel('l-infinity error')\n",
    "plt.savefig('barbell-2.pdf')"
   ]
  },
  {
   "cell_type": "code",
   "execution_count": null,
   "metadata": {},
   "outputs": [],
   "source": []
  },
  {
   "cell_type": "code",
   "execution_count": 126,
   "metadata": {},
   "outputs": [
    {
     "data": {
      "text/plain": [
       "Text(0, 0.5, 'l-infinity error')"
      ]
     },
     "execution_count": 126,
     "metadata": {},
     "output_type": "execute_result"
    },
    {
     "data": {
      "image/png": "[encoded data removed]",
      "text/plain": [
       "<Figure size 432x288 with 1 Axes>"
      ]
     },
     "metadata": {
      "needs_background": "light"
     },
     "output_type": "display_data"
    }
   ],
   "source": [
    "plt.plot(bridge_list / (n1 * n2), l0_beta_list)\n",
    "plt.plot(bridge_list / (n1 * n2), bound_yan_list)\n",
    "plt.plot(bridge_list / (n1 * n2), bound_shah_list)\n",
    "plt.plot(bridge_list / (n1 * n2), bound_our_list)\n",
    "plt.legend(['Real','Yan','Shah','Our'])\n",
    "plt.xlabel('bridge density')\n",
    "plt.ylabel('l-infinity error')\n",
    "# plt.savefig('barbell-1.pdf')"
   ]
  },
  {
   "cell_type": "code",
   "execution_count": 167,
   "metadata": {},
   "outputs": [
    {
     "data": {
      "text/plain": [
       "Text(0, 0.5, 'l-infinity error')"
      ]
     },
     "execution_count": 167,
     "metadata": {},
     "output_type": "execute_result"
    },
    {
     "data": {
      "image/png": "[encoded data removed]",
      "text/plain": [
       "<Figure size 432x288 with 1 Axes>"
      ]
     },
     "metadata": {
      "needs_background": "light"
     },
     "output_type": "display_data"
    }
   ],
   "source": [
    "# plt.fill_between(bridge_list / (n1 * n2), l0_beta_list - 2*std_l0_beta_list, l0_beta_list + 2*std_l0_beta_list, alpha = 0.2)\n",
    "plt.fill_between(bridge_list / (n1 * n2), bar_l0_beta_list[:,0], bar_l0_beta_list[:,1], alpha = 0.2)\n",
    "plt.plot(bridge_list / (n1 * n2), l0_beta_list)\n",
    "plt.fill_between(bridge_list / (n1 * n2), bar_yan_list[:,0], bar_yan_list[:,1], alpha = 0.2)\n",
    "plt.plot(bridge_list / (n1 * n2), bound_yan_list)\n",
    "plt.fill_between(bridge_list / (n1 * n2), bar_shah_list[:,0], bar_shah_list[:,1], alpha = 0.2)\n",
    "plt.plot(bridge_list / (n1 * n2), bound_shah_list)\n",
    "plt.fill_between(bridge_list / (n1 * n2), bar_our_list[:,0], bar_our_list[:,1], alpha = 0.2)\n",
    "plt.plot(bridge_list / (n1 * n2), bound_our_list)\n",
    "plt.legend(['Real','Yan','Shah','Our'])\n",
    "# plt.legend(['Real','Yan','Our'])\n",
    "plt.xlabel('bridge density')\n",
    "plt.ylabel('l-infinity error')\n",
    "# plt.savefig('barbell-1.pdf')"
   ]
  },
  {
   "cell_type": "code",
   "execution_count": 168,
   "metadata": {},
   "outputs": [
    {
     "data": {
      "text/plain": [
       "Text(0, 0.5, 'l-infinity error')"
      ]
     },
     "execution_count": 168,
     "metadata": {},
     "output_type": "execute_result"
    },
    {
     "data": {
      "image/png": "[encoded data removed]",
      "text/plain": [
       "<Figure size 432x288 with 1 Axes>"
      ]
     },
     "metadata": {
      "needs_background": "light"
     },
     "output_type": "display_data"
    }
   ],
   "source": [
    "# plt.fill_between(bridge_list / (n1 * n2), l0_beta_list - 2*std_l0_beta_list, l0_beta_list + 2*std_l0_beta_list, alpha = 0.2)\n",
    "plt.fill_between(bridge_list / (n1 * n2), bar_l0_beta_list[:,0], bar_l0_beta_list[:,1], alpha = 0.2)\n",
    "plt.plot(bridge_list / (n1 * n2), l0_beta_list)\n",
    "plt.fill_between(bridge_list / (n1 * n2), bar_yan_nk_list[:,0], bar_yan_nk_list[:,1], alpha = 0.2)\n",
    "plt.plot(bridge_list / (n1 * n2), bound_yan_nk_list)\n",
    "plt.fill_between(bridge_list / (n1 * n2), bar_shah_nk_list[:,0], bar_shah_nk_list[:,1], alpha = 0.2)\n",
    "plt.plot(bridge_list / (n1 * n2), bound_shah_nk_list)\n",
    "plt.fill_between(bridge_list / (n1 * n2), bar_our_nk_list[:,0], bar_our_nk_list[:,1], alpha = 0.2)\n",
    "plt.plot(bridge_list / (n1 * n2), bound_our_nk_list)\n",
    "plt.legend(['Real','Yan','Shah','Our'])\n",
    "# plt.legend(['Real','Yan','Our'])\n",
    "plt.xlabel('bridge density')\n",
    "plt.ylabel('l-infinity error')\n",
    "# plt.savefig('barbell-1.pdf')"
   ]
  },
  {
   "cell_type": "code",
   "execution_count": 77,
   "metadata": {},
   "outputs": [
    {
     "data": {
      "text/plain": [
       "14"
      ]
     },
     "execution_count": 77,
     "metadata": {},
     "output_type": "execute_result"
    }
   ],
   "source": [
    "len(bridge_list)"
   ]
  },
  {
   "cell_type": "code",
   "execution_count": 170,
   "metadata": {},
   "outputs": [
    {
     "data": {
      "text/plain": [
       "Text(0, 0.5, 'l-infinity error')"
      ]
     },
     "execution_count": 170,
     "metadata": {},
     "output_type": "execute_result"
    },
    {
     "data": {
      "image/png": "[encoded data removed]",
      "text/plain": [
       "<Figure size 432x288 with 1 Axes>"
      ]
     },
     "metadata": {
      "needs_background": "light"
     },
     "output_type": "display_data"
    }
   ],
   "source": [
    "i = 10\n",
    "# plt.fill_between(bridge_list / (n1 * n2), l0_beta_list - 2*std_l0_beta_list, l0_beta_list + 2*std_l0_beta_list, alpha = 0.2)\n",
    "plt.fill_between(bridge_list[i:] / (n1 * n2), bar_l0_beta_list[i:,0], bar_l0_beta_list[i:,1], alpha = 0.2)\n",
    "plt.plot(bridge_list[i:] / (n1 * n2), l0_beta_list[i:])\n",
    "plt.fill_between(bridge_list[i:] / (n1 * n2), bar_yan_nk_list[i:,0], bar_yan_nk_list[i:,1], alpha = 0.2)\n",
    "plt.plot(bridge_list[i:] / (n1 * n2), bound_yan_nk_list[i:])\n",
    "plt.fill_between(bridge_list[i:] / (n1 * n2), bar_shah_nk_list[i:,0], bar_shah_nk_list[i:,1], alpha = 0.2)\n",
    "plt.plot(bridge_list[i:] / (n1 * n2), bound_shah_nk_list[i:])\n",
    "plt.fill_between(bridge_list[i:] / (n1 * n2), bar_our_nk_list[i:,0], bar_our_nk_list[i:,1], alpha = 0.2)\n",
    "plt.plot(bridge_list[i:] / (n1 * n2), bound_our_nk_list[i:])\n",
    "plt.legend(['Real','Yan','Shah','Our'])\n",
    "# plt.legend(['Real','Yan','Our'])\n",
    "plt.xlabel('bridge density')\n",
    "plt.ylabel('l-infinity error')\n",
    "# plt.savefig('barbell-1.pdf')"
   ]
  },
  {
   "cell_type": "code",
   "execution_count": 134,
   "metadata": {
    "scrolled": false
   },
   "outputs": [
    {
     "data": {
      "text/plain": [
       "Text(0, 0.5, 'l-infinity error')"
      ]
     },
     "execution_count": 134,
     "metadata": {},
     "output_type": "execute_result"
    },
    {
     "data": {
      "image/png": "[encoded data removed]",
      "text/plain": [
       "<Figure size 432x288 with 1 Axes>"
      ]
     },
     "metadata": {
      "needs_background": "light"
     },
     "output_type": "display_data"
    }
   ],
   "source": [
    "i = 10\n",
    "plt.plot(bridge_list[i:] / (n1 * n2), l0_beta_list[i:])\n",
    "plt.plot(bridge_list[i:] / (n1 * n2), bound_yan_list[i:])\n",
    "plt.plot(bridge_list[i:] / (n1 * n2), bound_shah_nk_list[i:] * np.exp(2 * kappa))\n",
    "plt.plot(bridge_list[i:] / (n1 * n2), bound_our_list[i:])\n",
    "plt.legend(['Real','Yan','Shah','Our'])\n",
    "plt.xlabel('bridge density')\n",
    "plt.ylabel('l-infinity error')\n",
    "# plt.savefig('barbell-2.pdf')"
   ]
  },
  {
   "cell_type": "code",
   "execution_count": null,
   "metadata": {},
   "outputs": [],
   "source": []
  },
  {
   "cell_type": "code",
   "execution_count": null,
   "metadata": {},
   "outputs": [],
   "source": []
  },
  {
   "cell_type": "code",
   "execution_count": null,
   "metadata": {},
   "outputs": [],
   "source": []
  },
  {
   "cell_type": "code",
   "execution_count": null,
   "metadata": {},
   "outputs": [],
   "source": []
  },
  {
   "cell_type": "code",
   "execution_count": null,
   "metadata": {},
   "outputs": [],
   "source": []
  },
  {
   "cell_type": "markdown",
   "metadata": {},
   "source": [
    "## Regular graph, topology"
   ]
  },
  {
   "cell_type": "code",
   "execution_count": 153,
   "metadata": {},
   "outputs": [],
   "source": [
    "def get_2k_regular(n, k, permute = True, info = 'adj'):\n",
    "    # 2k-regular graph\n",
    "    adj = np.zeros((n,n))\n",
    "    for i in range(n):\n",
    "        for j in range(1, k + 1):\n",
    "            col = (i + j) % n\n",
    "            adj[i, col] = 1\n",
    "            \n",
    "            col = (i - j) % n\n",
    "            adj[i, col] = 1\n",
    "    if permute:\n",
    "        P = np.zeros((n,n))\n",
    "        P[np.arange(n), np.random.permutation(n)] = 1\n",
    "        adj = P.T @ adj @ P\n",
    "    if info == 'adj':\n",
    "        return adj\n",
    "    else:\n",
    "        loc = np.nonzero(adj)\n",
    "        loc = set([(x,y) for x, y in zip(loc[0],loc[1])])\n",
    "        return loc"
   ]
  },
  {
   "cell_type": "code",
   "execution_count": 58,
   "metadata": {},
   "outputs": [
    {
     "data": {
      "text/plain": [
       "array([[0., 1., 1., 0., 0., 0., 0., 0., 1., 1.],\n",
       "       [1., 0., 1., 1., 0., 0., 0., 0., 0., 1.],\n",
       "       [1., 1., 0., 1., 1., 0., 0., 0., 0., 0.],\n",
       "       [0., 1., 1., 0., 1., 1., 0., 0., 0., 0.],\n",
       "       [0., 0., 1., 1., 0., 1., 1., 0., 0., 0.],\n",
       "       [0., 0., 0., 1., 1., 0., 1., 1., 0., 0.],\n",
       "       [0., 0., 0., 0., 1., 1., 0., 1., 1., 0.],\n",
       "       [0., 0., 0., 0., 0., 1., 1., 0., 1., 1.],\n",
       "       [1., 0., 0., 0., 0., 0., 1., 1., 0., 1.],\n",
       "       [1., 1., 0., 0., 0., 0., 0., 1., 1., 0.]])"
      ]
     },
     "execution_count": 58,
     "metadata": {},
     "output_type": "execute_result"
    }
   ],
   "source": [
    "A = get_2k_regular(10, 2, permute = False)\n",
    "A"
   ]
  },
  {
   "cell_type": "code",
   "execution_count": 55,
   "metadata": {
    "scrolled": false
   },
   "outputs": [
    {
     "data": {
      "text/plain": [
       "array([[4., 4., 4., 4., 4., 4., 4., 4., 4., 4.]])"
      ]
     },
     "execution_count": 55,
     "metadata": {},
     "output_type": "execute_result"
    }
   ],
   "source": [
    "A @ np.ones((10, 1))\n",
    "np.ones((1,10)) @ A"
   ]
  },
  {
   "cell_type": "code",
   "execution_count": 50,
   "metadata": {},
   "outputs": [
    {
     "data": {
      "text/plain": [
       "array([[0., 0., 0., 0., 0., 1., 0., 0., 0., 0.],\n",
       "       [0., 0., 0., 0., 0., 0., 0., 0., 1., 0.],\n",
       "       [0., 0., 1., 0., 0., 0., 0., 0., 0., 0.],\n",
       "       [0., 1., 0., 0., 0., 0., 0., 0., 0., 0.],\n",
       "       [0., 0., 0., 0., 0., 0., 0., 1., 0., 0.],\n",
       "       [0., 0., 0., 0., 0., 0., 0., 0., 0., 1.],\n",
       "       [1., 0., 0., 0., 0., 0., 0., 0., 0., 0.],\n",
       "       [0., 0., 0., 0., 0., 0., 1., 0., 0., 0.],\n",
       "       [0., 0., 0., 0., 1., 0., 0., 0., 0., 0.],\n",
       "       [0., 0., 0., 1., 0., 0., 0., 0., 0., 0.]])"
      ]
     },
     "execution_count": 50,
     "metadata": {},
     "output_type": "execute_result"
    }
   ],
   "source": [
    "n = 10\n",
    "P = np.zeros((n,n))\n",
    "P[np.arange(n), np.random.permutation(n)] = 1\n",
    "P"
   ]
  },
  {
   "cell_type": "code",
   "execution_count": 223,
   "metadata": {},
   "outputs": [],
   "source": [
    "def lambda2_regular_2k(n, k):\n",
    "    A = get_2k_regular(n, k, permute = False, info = 'adj')\n",
    "    La = np.diag(np.sum(A, axis = 0)) - A\n",
    "    lambdas = np.linalg.eigvalsh(La)\n",
    "    return lambdas[1], lambdas[-1]\n",
    "\n",
    "def cos_sum(n, k):\n",
    "    return 2 * k - 2 * (np.sum(np.cos(np.arange(1, k + 1) * 2 * np.pi / n)))"
   ]
  },
  {
   "cell_type": "code",
   "execution_count": 226,
   "metadata": {},
   "outputs": [],
   "source": [
    "def min_n_ij(A):\n",
    "    return np.min(A @ A)"
   ]
  },
  {
   "cell_type": "code",
   "execution_count": 232,
   "metadata": {},
   "outputs": [],
   "source": [
    "n = 1000\n",
    "k_list = np.arange(30) * 10\n",
    "min_n_ij_list = []\n",
    "for k in k_list:\n",
    "    A = get_2k_regular(n, k, permute = False, info = 'adj')\n",
    "    min_n_ij_list.append(min_n_ij(A))\n",
    "min_n_ij_list = np.array(min_n_ij_list)"
   ]
  },
  {
   "cell_type": "code",
   "execution_count": 235,
   "metadata": {},
   "outputs": [
    {
     "data": {
      "text/plain": [
       "[<matplotlib.lines.Line2D at 0x204216d5b88>]"
      ]
     },
     "execution_count": 235,
     "metadata": {},
     "output_type": "execute_result"
    },
    {
     "data": {
      "image/png": "[encoded data removed]",
      "text/plain": [
       "<Figure size 432x288 with 1 Axes>"
      ]
     },
     "metadata": {
      "needs_background": "light"
     },
     "output_type": "display_data"
    }
   ],
   "source": [
    "plt.plot(k_list[20:], min_n_ij_list[20:])"
   ]
  },
  {
   "cell_type": "code",
   "execution_count": 205,
   "metadata": {},
   "outputs": [],
   "source": [
    "n = 1000\n",
    "k = 120\n",
    "lam2, lamn = lambda2_regular_2k(n = n, k = k)"
   ]
  },
  {
   "cell_type": "code",
   "execution_count": 224,
   "metadata": {},
   "outputs": [],
   "source": [
    "n = 1000\n",
    "k_list = np.arange(30) * 10\n",
    "lam2_list = []\n",
    "appr_list = []\n",
    "for k in k_list:\n",
    "    lam2, lamn = lambda2_regular_2k(n = n, k = k)\n",
    "    lam2_list.append(lam2)\n",
    "    appr_list.append(4 / 3 * np.pi**2 * (k)**3 / n**2)"
   ]
  },
  {
   "cell_type": "code",
   "execution_count": 225,
   "metadata": {},
   "outputs": [
    {
     "data": {
      "text/plain": [
       "<matplotlib.legend.Legend at 0x2041f6ead08>"
      ]
     },
     "execution_count": 225,
     "metadata": {},
     "output_type": "execute_result"
    },
    {
     "data": {
      "image/png": "[encoded data removed]",
      "text/plain": [
       "<Figure size 432x288 with 1 Axes>"
      ]
     },
     "metadata": {
      "needs_background": "light"
     },
     "output_type": "display_data"
    }
   ],
   "source": [
    "plt.plot(lam2_list)\n",
    "plt.plot(appr_list)\n",
    "plt.legend(['lam2', 'approx'])"
   ]
  },
  {
   "cell_type": "code",
   "execution_count": null,
   "metadata": {},
   "outputs": [],
   "source": []
  },
  {
   "cell_type": "code",
   "execution_count": 217,
   "metadata": {
    "scrolled": true
   },
   "outputs": [
    {
     "name": "stdout",
     "output_type": "stream",
     "text": [
      "14.284403155337708\n",
      "14.379710944518894\n",
      "14.589801923536749\n",
      "66.65831292386824\n",
      "14.284403155337941\n",
      "14.352700094407323\n"
     ]
    }
   ],
   "source": [
    "n = 1000\n",
    "k = 103\n",
    "lam2, lamn = lambda2_regular_2k(n = n, k = k)\n",
    "print(lam2)\n",
    "print(4 / 3 * np.pi**2 * (k)**3 / n**2)\n",
    "print(2/3 * np.pi**2 * k * (k + 1) * (2*k + 1) / n**2)\n",
    "print(2 * np.pi * k**3 / n**2)\n",
    "\n",
    "print(cos_sum(n, k))\n",
    "print((2*k)**0.5)"
   ]
  },
  {
   "cell_type": "code",
   "execution_count": null,
   "metadata": {},
   "outputs": [],
   "source": []
  },
  {
   "cell_type": "code",
   "execution_count": 62,
   "metadata": {},
   "outputs": [
    {
     "data": {
      "text/plain": [
       "0.7999999999999847"
      ]
     },
     "execution_count": 62,
     "metadata": {},
     "output_type": "execute_result"
    }
   ],
   "source": [
    "n = 1000\n",
    "p1 = 0.05\n",
    "pn = 0.8\n",
    "q = (pn / p1) ** (1/(n - 1))\n",
    "p = p1 * np.exp(np.arange(n) * np.log(q))\n",
    "p[-1]"
   ]
  },
  {
   "cell_type": "code",
   "execution_count": 64,
   "metadata": {},
   "outputs": [
    {
     "data": {
      "text/plain": [
       "array([[0.        , 0.00250695, 0.00251392, 0.0025209 ],\n",
       "       [0.00250695, 0.        , 0.0025209 , 0.00252791],\n",
       "       [0.00251392, 0.0025209 , 0.        , 0.00253493],\n",
       "       [0.0025209 , 0.00252791, 0.00253493, 0.        ]])"
      ]
     },
     "execution_count": 64,
     "metadata": {},
     "output_type": "execute_result"
    }
   ],
   "source": [
    "pv = p.reshape((n,1))\n",
    "P = pv @ pv.T - np.diag(p**2)\n",
    "P[:4,:4]"
   ]
  },
  {
   "cell_type": "code",
   "execution_count": 86,
   "metadata": {},
   "outputs": [
    {
     "data": {
      "text/plain": [
       "270.6599883067434"
      ]
     },
     "execution_count": 86,
     "metadata": {},
     "output_type": "execute_result"
    }
   ],
   "source": [
    "sum(p)"
   ]
  },
  {
   "cell_type": "code",
   "execution_count": 88,
   "metadata": {},
   "outputs": [
    {
     "data": {
      "text/plain": [
       "270.65998830674334"
      ]
     },
     "execution_count": 88,
     "metadata": {},
     "output_type": "execute_result"
    }
   ],
   "source": []
  },
  {
   "cell_type": "code",
   "execution_count": 100,
   "metadata": {},
   "outputs": [],
   "source": [
    "def lambda2_pq(p1, pn, n):\n",
    "    q = (pn / p1) ** (1/(n - 1))\n",
    "    p = p1 * np.exp(np.arange(n) * np.log(q))\n",
    "    pv = p.reshape((n,1))\n",
    "    La = np.sum(p) * np.diag(p) - pv @ pv.T\n",
    "    lambdas = np.linalg.eigvalsh(La)\n",
    "    return lambdas[1], lambdas[-1]\n",
    "\n",
    "def n_extreme_pq(p1, pn, n):\n",
    "    q = (pn / p1) ** (1/(n - 1))\n",
    "    s = p1 * (q**n - 1)/(q - 1)\n",
    "    return p1 * (s - p1), pn * (s - pn)"
   ]
  },
  {
   "cell_type": "code",
   "execution_count": 101,
   "metadata": {},
   "outputs": [],
   "source": [
    "p1 = 0.2\n",
    "pn = 0.8\n",
    "n = 1000\n",
    "lam2, lamn = lambda2_pq(p1 = p1, pn = pn, n = n)\n",
    "n1, nn = n_extreme_pq(p1 = p1, pn = pn, n = n)"
   ]
  },
  {
   "cell_type": "code",
   "execution_count": 102,
   "metadata": {},
   "outputs": [
    {
     "name": "stdout",
     "output_type": "stream",
     "text": [
      "86.58933973530256 346.23320039671796\n",
      "86.53515462770082 345.66061851080326\n"
     ]
    }
   ],
   "source": [
    "print(lam2, lamn)\n",
    "print(n1, nn)"
   ]
  },
  {
   "cell_type": "code",
   "execution_count": 92,
   "metadata": {},
   "outputs": [
    {
     "data": {
      "text/plain": [
       "6.907755278982137"
      ]
     },
     "execution_count": 92,
     "metadata": {},
     "output_type": "execute_result"
    }
   ],
   "source": [
    "np.log(n)"
   ]
  },
  {
   "cell_type": "code",
   "execution_count": 103,
   "metadata": {},
   "outputs": [],
   "source": [
    "q = (pn / p1) ** (1/(n - 1))\n",
    "s = p1 * (q**n - 1)/(q - 1)"
   ]
  },
  {
   "cell_type": "code",
   "execution_count": 105,
   "metadata": {},
   "outputs": [
    {
     "data": {
      "text/plain": [
       "346.3006185108033"
      ]
     },
     "execution_count": 105,
     "metadata": {},
     "output_type": "execute_result"
    }
   ],
   "source": [
    "pn * s"
   ]
  },
  {
   "cell_type": "code",
   "execution_count": 107,
   "metadata": {},
   "outputs": [
    {
     "data": {
      "text/plain": [
       "270.6599883067434"
      ]
     },
     "execution_count": 107,
     "metadata": {},
     "output_type": "execute_result"
    }
   ],
   "source": [
    "np.sum(p)"
   ]
  },
  {
   "cell_type": "code",
   "execution_count": 106,
   "metadata": {},
   "outputs": [
    {
     "data": {
      "text/plain": [
       "115.17134119204752"
      ]
     },
     "execution_count": 106,
     "metadata": {},
     "output_type": "execute_result"
    }
   ],
   "source": [
    "np.sum(p**2)"
   ]
  },
  {
   "cell_type": "code",
   "execution_count": null,
   "metadata": {},
   "outputs": [],
   "source": []
  },
  {
   "cell_type": "code",
   "execution_count": null,
   "metadata": {},
   "outputs": [],
   "source": []
  },
  {
   "cell_type": "code",
   "execution_count": 80,
   "metadata": {},
   "outputs": [],
   "source": [
    "A = np.random.uniform(0,1,(n,n))"
   ]
  },
  {
   "cell_type": "code",
   "execution_count": 81,
   "metadata": {},
   "outputs": [
    {
     "data": {
      "text/plain": [
       "array([[0., 1., 1., 1., 1., 0., 1., 1., 1., 1.],\n",
       "       [1., 0., 0., 0., 1., 0., 0., 0., 1., 1.],\n",
       "       [1., 0., 0., 1., 1., 1., 0., 1., 1., 0.],\n",
       "       [1., 0., 1., 0., 1., 1., 1., 1., 1., 0.],\n",
       "       [1., 1., 1., 1., 0., 0., 1., 1., 1., 1.],\n",
       "       [0., 0., 1., 1., 0., 0., 1., 0., 1., 1.],\n",
       "       [1., 0., 0., 1., 1., 1., 0., 0., 1., 1.],\n",
       "       [1., 0., 1., 1., 1., 0., 0., 0., 1., 1.],\n",
       "       [1., 1., 1., 1., 1., 1., 1., 1., 0., 1.],\n",
       "       [1., 1., 0., 0., 1., 1., 1., 1., 1., 0.]])"
      ]
     },
     "execution_count": 81,
     "metadata": {},
     "output_type": "execute_result"
    }
   ],
   "source": [
    "A[A < P] = 1\n",
    "A[A < 1] = 0\n",
    "A = np.triu(A) + np.triu(A).T\n",
    "A[-10:,-10:]"
   ]
  },
  {
   "cell_type": "code",
   "execution_count": 82,
   "metadata": {},
   "outputs": [
    {
     "data": {
      "text/plain": [
       "0.072542"
      ]
     },
     "execution_count": 82,
     "metadata": {},
     "output_type": "execute_result"
    }
   ],
   "source": [
    "np.sum(A) / n**2"
   ]
  },
  {
   "cell_type": "code",
   "execution_count": 70,
   "metadata": {},
   "outputs": [
    {
     "data": {
      "text/plain": [
       "array([[1., 1., 1.],\n",
       "       [0., 1., 1.],\n",
       "       [0., 0., 1.]])"
      ]
     },
     "execution_count": 70,
     "metadata": {},
     "output_type": "execute_result"
    }
   ],
   "source": [
    "np.triu(np.ones((3,3)))"
   ]
  },
  {
   "cell_type": "code",
   "execution_count": null,
   "metadata": {},
   "outputs": [],
   "source": []
  },
  {
   "cell_type": "markdown",
   "metadata": {},
   "source": [
    "## K-Cayley grap"
   ]
  },
  {
   "cell_type": "code",
   "execution_count": 19,
   "metadata": {},
   "outputs": [
    {
     "data": {
      "text/plain": [
       "array([[0., 1., 1., 0., 0., 0., 0., 0., 1., 1.],\n",
       "       [1., 0., 1., 1., 0., 0., 0., 0., 0., 1.],\n",
       "       [1., 1., 0., 1., 1., 0., 0., 0., 0., 0.],\n",
       "       [0., 1., 1., 0., 1., 1., 0., 0., 0., 0.],\n",
       "       [0., 0., 1., 1., 0., 1., 1., 0., 0., 0.],\n",
       "       [0., 0., 0., 1., 1., 0., 1., 1., 0., 0.],\n",
       "       [0., 0., 0., 0., 1., 1., 0., 1., 1., 0.],\n",
       "       [0., 0., 0., 0., 0., 1., 1., 0., 1., 1.],\n",
       "       [1., 0., 0., 0., 0., 0., 1., 1., 0., 1.],\n",
       "       [1., 1., 0., 0., 0., 0., 0., 1., 1., 0.]])"
      ]
     },
     "execution_count": 19,
     "metadata": {},
     "output_type": "execute_result"
    }
   ],
   "source": [
    "def get_k_regular_adj(n, k):\n",
    "    # 2k-regular graph\n",
    "    adj = np.zeros((n,n))\n",
    "    for i in range(n):\n",
    "        for j in range(1, k + 1):\n",
    "            col = (i + j) % n\n",
    "            adj[i, col] = 1\n",
    "            \n",
    "            col = (i - j) % n\n",
    "            adj[i, col] = 1\n",
    "    return adj\n",
    "get_k_regular_adj(10,2)"
   ]
  },
  {
   "cell_type": "code",
   "execution_count": 42,
   "metadata": {},
   "outputs": [],
   "source": [
    "def get_k_regular(n, k):\n",
    "    # 2k-regular graph\n",
    "    adj = np.zeros((n,n))\n",
    "    for i in range(n):\n",
    "        for j in range(1, k + 1):\n",
    "            col = (i + j) % n\n",
    "            adj[i, col] = 1\n",
    "            \n",
    "            col = (i - j) % n\n",
    "            adj[i, col] = 1\n",
    "    loc = np.nonzero(adj)\n",
    "    loc = set([(x,y) for x, y in zip(loc[0],loc[1])])\n",
    "    return loc"
   ]
  }
 ],
 "metadata": {
  "kernelspec": {
   "display_name": "Python 3",
   "language": "python",
   "name": "python3"
  },
  "language_info": {
   "codemirror_mode": {
    "name": "ipython",
    "version": 3
   },
   "file_extension": ".py",
   "mimetype": "text/x-python",
   "name": "python",
   "nbconvert_exporter": "python",
   "pygments_lexer": "ipython3",
   "version": "3.7.4"
  }
 },
 "nbformat": 4,
 "nbformat_minor": 2
}
