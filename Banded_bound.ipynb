{
 "cells": [
  {
   "cell_type": "code",
   "execution_count": 1,
   "metadata": {},
   "outputs": [],
   "source": [
    "import numpy as np\n",
    "import matplotlib.pyplot as plt\n",
    "import scipy.stats as stats\n",
    "import random\n",
    "\n",
    "import bt_mle_utils as mle\n",
    "from simulation_utils import *"
   ]
  },
  {
   "cell_type": "markdown",
   "metadata": {},
   "source": [
    "## Banded"
   ]
  },
  {
   "cell_type": "code",
   "execution_count": 2,
   "metadata": {},
   "outputs": [],
   "source": [
    "def get_k_banded_adj(n, k, permute = False):\n",
    "    # k-cayley graph\n",
    "    adj = np.zeros((n,n))\n",
    "    for i in range(n):\n",
    "        for j in range(1, k + 1):\n",
    "            col = (i + j)\n",
    "            if col < n:\n",
    "                adj[i, col] = 1\n",
    "            \n",
    "            col = (i - j)\n",
    "            if col > -1:\n",
    "                adj[i, col] = 1\n",
    "    if permute:\n",
    "        P = np.zeros((n,n))\n",
    "        P[np.arange(n), np.random.permutation(n)] = 1\n",
    "        adj = P.T @ adj @ P\n",
    "    return adj"
   ]
  },
  {
   "cell_type": "code",
   "execution_count": 3,
   "metadata": {
    "scrolled": false
   },
   "outputs": [
    {
     "data": {
      "text/plain": [
       "array([[0., 1., 1., 0., 0., 0., 0., 0., 0., 0.],\n",
       "       [1., 0., 1., 1., 0., 0., 0., 0., 0., 0.],\n",
       "       [1., 1., 0., 1., 1., 0., 0., 0., 0., 0.],\n",
       "       [0., 1., 1., 0., 1., 1., 0., 0., 0., 0.],\n",
       "       [0., 0., 1., 1., 0., 1., 1., 0., 0., 0.],\n",
       "       [0., 0., 0., 1., 1., 0., 1., 1., 0., 0.],\n",
       "       [0., 0., 0., 0., 1., 1., 0., 1., 1., 0.],\n",
       "       [0., 0., 0., 0., 0., 1., 1., 0., 1., 1.],\n",
       "       [0., 0., 0., 0., 0., 0., 1., 1., 0., 1.],\n",
       "       [0., 0., 0., 0., 0., 0., 0., 1., 1., 0.]])"
      ]
     },
     "execution_count": 3,
     "metadata": {},
     "output_type": "execute_result"
    }
   ],
   "source": [
    "A = get_k_banded_adj(n = 10, k = 2)\n",
    "A"
   ]
  },
  {
   "cell_type": "code",
   "execution_count": 4,
   "metadata": {},
   "outputs": [],
   "source": [
    "def get_bound_our(kappa, lam2, n_max, n_min, n, L, no_kappa = False):\n",
    "    if no_kappa:\n",
    "        return 1/lam2 * (n_max/n_min) * np.sqrt(n / L) + 1/lam2 * np.sqrt(n_max * np.log(n) / L)\n",
    "    else:\n",
    "        return np.exp(2 * kappa)/lam2 * (n_max/n_min) * np.sqrt(n / L) + np.exp(kappa)/lam2 * np.sqrt(n_max * np.log(n) / L)\n",
    "\n",
    "\n",
    "def get_bound_our_l2(kappa, lam2, n_max, n_min, n, L, no_kappa = False):\n",
    "    if no_kappa:\n",
    "        return 1/lam2 * np.sqrt(n * n_max / L)\n",
    "    else:\n",
    "        return np.exp(kappa)/lam2 * np.sqrt(n * n_max / L)"
   ]
  },
  {
   "cell_type": "code",
   "execution_count": 5,
   "metadata": {},
   "outputs": [],
   "source": [
    "import time"
   ]
  },
  {
   "cell_type": "code",
   "execution_count": 6,
   "metadata": {
    "scrolled": false
   },
   "outputs": [
    {
     "name": "stderr",
     "output_type": "stream",
     "text": [
      "E:\\python_notebook\\ranking\\bradley-terry\\uai2022\\simulation_utils.py:153: RuntimeWarning: divide by zero encountered in double_scalars\n",
      "  return np.exp(kappa) / n_ij * np.sqrt(L * n * np.log(n + 1))\n"
     ]
    },
    {
     "name": "stdout",
     "output_type": "stream",
     "text": [
      "25\n",
      "time:  0.23909711837768555\n",
      "50\n",
      "time:  0.878331184387207\n",
      "75\n",
      "time:  1.7253444194793701\n",
      "100\n",
      "time:  3.449275493621826\n",
      "200\n",
      "time:  12.648170232772827\n",
      "300\n",
      "time:  28.565519332885742\n",
      "400\n",
      "time:  73.4922776222229\n",
      "600\n",
      "time:  145.85959124565125\n",
      "800\n",
      "time:  145.8357150554657\n",
      "1000\n",
      "time:  273.27931547164917\n"
     ]
    }
   ],
   "source": [
    "n_list = np.array([25, 50, 75, 100, 200, 300, 400, 600, 800, 1000])\n",
    "m = len(n_list)\n",
    "\n",
    "k_list = (n_list / np.log(n_list)).astype(int)\n",
    "B = 20\n",
    "\n",
    "lam2_list = np.zeros(m)\n",
    "min_n_ij_list = np.zeros(m)\n",
    "n_max_list = np.zeros(m)\n",
    "n_min_list = np.zeros(m)\n",
    "\n",
    "bound_yan_list = np.zeros(m)\n",
    "bound_shah_list = np.zeros(m)\n",
    "bound_our_list = np.zeros(m)\n",
    "bound_our_e_list = np.zeros(m)\n",
    "\n",
    "bound_our_l2_list = np.zeros(m)\n",
    "bound_our_e_l2_list = np.zeros(m)\n",
    "ratio_list = np.zeros(m)\n",
    "\n",
    "bound_yan_mat = np.zeros((m,B))\n",
    "bound_shah_mat = np.zeros((m,B))\n",
    "bound_our_mat = np.zeros((m,B))\n",
    "bound_our_e_mat = np.zeros((m,B))\n",
    "bound_our_l2_mat = np.zeros((m,B))\n",
    "bound_our_e_l2_mat = np.zeros((m,B))\n",
    "ratio_mat = np.zeros((m,B))\n",
    "\n",
    "\n",
    "l_infty_beta_list = np.zeros(m)\n",
    "l_infty_beta_mat = np.zeros((m,B))\n",
    "l2_beta_list = np.zeros(m)\n",
    "l2_beta_mat = np.zeros((m,B))\n",
    "\n",
    "np.random.seed(0)\n",
    "\n",
    "for ix, n in enumerate(n_list):\n",
    "    st = time.time()\n",
    "    # delta = np.log(n) / n\n",
    "    k = k_list[ix]\n",
    "    kappa = np.sqrt(np.log(n))\n",
    "    delta = 1\n",
    "    beta = get_beta_with_gap(n, delta)\n",
    "    beta *= kappa / (np.max(beta) - np.min(beta))\n",
    "    total = 10\n",
    "    \n",
    "    lam, n_ij = 0, 0\n",
    "    \n",
    "    lam2_, n_ij_, n_max_, n_min_ = np.zeros(B), np.zeros(B), np.zeros(B), np.zeros(B)\n",
    "    bound_yan_, bound_shah_, bound_our_ = np.zeros(B), np.zeros(B), np.zeros(B)\n",
    "    bound_our_e_ = np.zeros(B)\n",
    "    bound_our_l2_, bound_our_e_l2_ = np.zeros(B), np.zeros(B)\n",
    "    ratio_ = np.zeros(B)\n",
    "    \n",
    "    l_infty_beta_, l2_beta_ = np.zeros(B), np.zeros(B)\n",
    "  \n",
    "    for b in range(B):\n",
    "        A = get_k_banded_adj(n = n, k = k)\n",
    "        lam2_[b], n_ij_[b], n_max_[b], n_min_[b] = get_topo(A)\n",
    "        \n",
    "        edge_list = get_edge(A)\n",
    "        game_matrix = get_game_matrix(beta, edge_list, total)\n",
    "        \n",
    "        beta_hat = get_mle_reg(game_matrix)\n",
    "        l_infty_beta_[b] = np.max(np.abs(beta-beta_hat))\n",
    "        l2_beta_[b] = np.sum((beta-beta_hat)**2)**0.5\n",
    "        \n",
    "        L = total\n",
    "        bound_yan_[b] = get_bound_yan(kappa, n_ij_[b], n, L = total)\n",
    "        bound_shah_[b] = get_bound_shah(kappa, lam2_[b], n, L = total)\n",
    "        bound_our_[b] = get_bound_our(kappa, lam2_[b], n_max_[b], n_min_[b], n, L)\n",
    "        bound_our_l2_[b] = get_bound_our_l2(kappa, lam2_[b], n_max_[b], n_min_[b], n, L)\n",
    "        kappa_E = kappa * k / n\n",
    "        bound_our_e_[b] = get_bound_our(kappa_E, lam2_[b], n_max_[b], n_min_[b], n, L)\n",
    "        bound_our_e_l2_[b] = get_bound_our_l2(kappa_E, lam2_[b], n_max_[b], n_min_[b], n, L)\n",
    "        \n",
    "        \n",
    "        ratio_[b] = bound_our_[b] / bound_yan_[b]\n",
    "        \n",
    "        bound_yan_mat[ix,b] = (bound_yan_[b])\n",
    "        bound_shah_mat[ix,b] = (bound_shah_[b])\n",
    "        bound_our_mat[ix,b] = (bound_our_[b])\n",
    "        bound_our_l2_mat[ix,b] = (bound_our_l2_[b])\n",
    "        bound_our_e_mat[ix,b] = (bound_our_e_[b])\n",
    "        bound_our_e_l2_mat[ix,b] = (bound_our_e_l2_[b])\n",
    "        ratio_mat[ix,b] = (ratio_[b])\n",
    "        \n",
    "        l_infty_beta_mat[ix, b] = l_infty_beta_[b]\n",
    "        l2_beta_mat[ix, b] = l2_beta_[b]\n",
    "    \n",
    "    l_infty_beta_list[ix] = np.mean(l_infty_beta_)\n",
    "    l2_beta_list[ix] = np.mean(l2_beta_)\n",
    "    \n",
    "    lam2_list[ix] = np.mean(lam2_)\n",
    "    min_n_ij_list[ix] = np.mean(n_ij_)\n",
    "    n_max_list[ix], n_min_list[ix] = np.mean(n_max_), np.mean(n_min_)\n",
    "    bound_yan_list[ix] = np.mean(bound_yan_)\n",
    "    bound_shah_list[ix] = np.mean(bound_shah_)\n",
    "    bound_our_list[ix] = np.mean(bound_our_)\n",
    "    bound_our_e_list[ix] = np.mean(bound_our_e_)\n",
    "    bound_our_l2_list[ix] = np.mean(bound_our_l2_)\n",
    "    bound_our_e_l2_list[ix] = np.mean(bound_our_e_l2_)\n",
    "    \n",
    "    ratio_list[ix] = np.mean(ratio_)\n",
    "    \n",
    "    print(n)\n",
    "    print('time: ', str(time.time() - st))"
   ]
  },
  {
   "cell_type": "code",
   "execution_count": 7,
   "metadata": {},
   "outputs": [
    {
     "data": {
      "image/png": "[encoded data removed]",
      "text/plain": [
       "<Figure size 432x288 with 1 Axes>"
      ]
     },
     "metadata": {
      "needs_background": "light"
     },
     "output_type": "display_data"
    }
   ],
   "source": [
    "plt.plot(n_list, bound_our_l2_list)\n",
    "plt.plot(n_list, bound_our_e_l2_list)\n",
    "plt.plot(n_list, bound_shah_list)\n",
    "plt.plot(n_list, l2_beta_list)\n",
    "plt.xlabel('n')\n",
    "plt.ylabel('bound')\n",
    "plt.yscale('log')\n",
    "plt.legend(['kappa','kappa_E','Shah','real'], loc = 'center right', bbox_to_anchor=(0.5, 0.4, 0.5, 0.5))\n",
    "plt.savefig(\"banded_compare.pdf\", bbox_inches = 'tight')"
   ]
  },
  {
   "cell_type": "code",
   "execution_count": 8,
   "metadata": {},
   "outputs": [
    {
     "data": {
      "text/plain": [
       "<matplotlib.legend.Legend at 0x236c19b2bc8>"
      ]
     },
     "execution_count": 8,
     "metadata": {},
     "output_type": "execute_result"
    },
    {
     "data": {
      "image/png": "[encoded data removed]",
      "text/plain": [
       "<Figure size 432x288 with 1 Axes>"
      ]
     },
     "metadata": {
      "needs_background": "light"
     },
     "output_type": "display_data"
    }
   ],
   "source": [
    "plt.plot(n_list, bound_our_e_l2_list)\n",
    "plt.plot(n_list, l2_beta_list)\n",
    "plt.xlabel('n')\n",
    "plt.ylabel('bound')\n",
    "plt.yscale('log')\n",
    "plt.legend(['kappa_E','real'])"
   ]
  },
  {
   "cell_type": "code",
   "execution_count": null,
   "metadata": {},
   "outputs": [],
   "source": []
  },
  {
   "cell_type": "code",
   "execution_count": 9,
   "metadata": {
    "scrolled": false
   },
   "outputs": [
    {
     "name": "stderr",
     "output_type": "stream",
     "text": [
      "E:\\python_notebook\\ranking\\bradley-terry\\uai2022\\simulation_utils.py:153: RuntimeWarning: divide by zero encountered in double_scalars\n",
      "  return np.exp(kappa) / n_ij * np.sqrt(L * n * np.log(n + 1))\n"
     ]
    },
    {
     "name": "stdout",
     "output_type": "stream",
     "text": [
      "25\n",
      "time:  0.642359733581543\n",
      "50\n",
      "time:  2.6705498695373535\n",
      "75\n",
      "time:  7.8171000480651855\n",
      "100\n",
      "time:  15.285581111907959\n",
      "200\n",
      "time:  124.21519899368286\n",
      "300\n",
      "time:  463.6923360824585\n",
      "400\n",
      "time:  1427.1262485980988\n",
      "600\n",
      "time:  146.94993567466736\n",
      "800\n",
      "time:  244.75491952896118\n",
      "1000\n",
      "time:  359.9209611415863\n"
     ]
    }
   ],
   "source": [
    "n_list = np.array([25, 50, 75, 100, 200, 300, 400, 600, 800, 1000])\n",
    "m = len(n_list)\n",
    "\n",
    "k_list = (n_list**0.5).astype(int)\n",
    "B = 20\n",
    "\n",
    "lam2_list = np.zeros(m)\n",
    "min_n_ij_list = np.zeros(m)\n",
    "n_max_list = np.zeros(m)\n",
    "n_min_list = np.zeros(m)\n",
    "\n",
    "bound_yan_list = np.zeros(m)\n",
    "bound_shah_list = np.zeros(m)\n",
    "bound_our_list = np.zeros(m)\n",
    "bound_our_e_list = np.zeros(m)\n",
    "\n",
    "bound_our_l2_list = np.zeros(m)\n",
    "bound_our_e_l2_list = np.zeros(m)\n",
    "ratio_list = np.zeros(m)\n",
    "\n",
    "bound_yan_mat = np.zeros((m,B))\n",
    "bound_shah_mat = np.zeros((m,B))\n",
    "bound_our_mat = np.zeros((m,B))\n",
    "bound_our_e_mat = np.zeros((m,B))\n",
    "bound_our_l2_mat = np.zeros((m,B))\n",
    "bound_our_e_l2_mat = np.zeros((m,B))\n",
    "ratio_mat = np.zeros((m,B))\n",
    "\n",
    "\n",
    "l_infty_beta_list = np.zeros(m)\n",
    "l_infty_beta_mat = np.zeros((m,B))\n",
    "l2_beta_list = np.zeros(m)\n",
    "l2_beta_mat = np.zeros((m,B))\n",
    "\n",
    "np.random.seed(0)\n",
    "\n",
    "for ix, n in enumerate(n_list):\n",
    "    st = time.time()\n",
    "    # delta = np.log(n) / n\n",
    "    k = k_list[ix]\n",
    "    kappa = np.sqrt(np.log(n))\n",
    "    delta = 1\n",
    "    beta = get_beta_with_gap(n, delta)\n",
    "    beta *= kappa / (np.max(beta) - np.min(beta))\n",
    "    total = 10\n",
    "    \n",
    "    lam, n_ij = 0, 0\n",
    "    \n",
    "    lam2_, n_ij_, n_max_, n_min_ = np.zeros(B), np.zeros(B), np.zeros(B), np.zeros(B)\n",
    "    bound_yan_, bound_shah_, bound_our_ = np.zeros(B), np.zeros(B), np.zeros(B)\n",
    "    bound_our_e_ = np.zeros(B)\n",
    "    bound_our_l2_, bound_our_e_l2_ = np.zeros(B), np.zeros(B)\n",
    "    ratio_ = np.zeros(B)\n",
    "    \n",
    "    l_infty_beta_, l2_beta_ = np.zeros(B), np.zeros(B)\n",
    "  \n",
    "    for b in range(B):\n",
    "        A = get_k_banded_adj(n = n, k = k)\n",
    "        lam2_[b], n_ij_[b], n_max_[b], n_min_[b] = get_topo(A)\n",
    "        \n",
    "        edge_list = get_edge(A)\n",
    "        game_matrix = get_game_matrix(beta, edge_list, total)\n",
    "        \n",
    "        beta_hat = get_mle_reg(game_matrix)\n",
    "        l_infty_beta_[b] = np.max(np.abs(beta-beta_hat))\n",
    "        l2_beta_[b] = np.sum((beta-beta_hat)**2)**0.5\n",
    "        \n",
    "        L = total\n",
    "        bound_yan_[b] = get_bound_yan(kappa, n_ij_[b], n, L = total)\n",
    "        bound_shah_[b] = get_bound_shah(kappa, lam2_[b], n, L = total)\n",
    "        bound_our_[b] = get_bound_our(kappa, lam2_[b], n_max_[b], n_min_[b], n, L)\n",
    "        bound_our_l2_[b] = get_bound_our_l2(kappa, lam2_[b], n_max_[b], n_min_[b], n, L)\n",
    "        kappa_E = kappa * k / n\n",
    "        bound_our_e_[b] = get_bound_our(kappa_E, lam2_[b], n_max_[b], n_min_[b], n, L)\n",
    "        bound_our_e_l2_[b] = get_bound_our_l2(kappa_E, lam2_[b], n_max_[b], n_min_[b], n, L)\n",
    "        \n",
    "        \n",
    "        ratio_[b] = bound_our_[b] / bound_yan_[b]\n",
    "        \n",
    "        bound_yan_mat[ix,b] = (bound_yan_[b])\n",
    "        bound_shah_mat[ix,b] = (bound_shah_[b])\n",
    "        bound_our_mat[ix,b] = (bound_our_[b])\n",
    "        bound_our_l2_mat[ix,b] = (bound_our_l2_[b])\n",
    "        bound_our_e_mat[ix,b] = (bound_our_e_[b])\n",
    "        bound_our_e_l2_mat[ix,b] = (bound_our_e_l2_[b])\n",
    "        ratio_mat[ix,b] = (ratio_[b])\n",
    "        \n",
    "        l_infty_beta_mat[ix, b] = l_infty_beta_[b]\n",
    "        l2_beta_mat[ix, b] = l2_beta_[b]\n",
    "    \n",
    "    l_infty_beta_list[ix] = np.mean(l_infty_beta_)\n",
    "    l2_beta_list[ix] = np.mean(l2_beta_)\n",
    "    \n",
    "    lam2_list[ix] = np.mean(lam2_)\n",
    "    min_n_ij_list[ix] = np.mean(n_ij_)\n",
    "    n_max_list[ix], n_min_list[ix] = np.mean(n_max_), np.mean(n_min_)\n",
    "    bound_yan_list[ix] = np.mean(bound_yan_)\n",
    "    bound_shah_list[ix] = np.mean(bound_shah_)\n",
    "    bound_our_list[ix] = np.mean(bound_our_)\n",
    "    bound_our_e_list[ix] = np.mean(bound_our_e_)\n",
    "    bound_our_l2_list[ix] = np.mean(bound_our_l2_)\n",
    "    bound_our_e_l2_list[ix] = np.mean(bound_our_e_l2_)\n",
    "    \n",
    "    ratio_list[ix] = np.mean(ratio_)\n",
    "    \n",
    "    print(n)\n",
    "    print('time: ', str(time.time() - st))"
   ]
  },
  {
   "cell_type": "code",
   "execution_count": 10,
   "metadata": {},
   "outputs": [
    {
     "data": {
      "image/png": "[encoded data removed]",
      "text/plain": [
       "<Figure size 432x288 with 1 Axes>"
      ]
     },
     "metadata": {
      "needs_background": "light"
     },
     "output_type": "display_data"
    }
   ],
   "source": [
    "plt.plot(n_list, bound_our_l2_list)\n",
    "plt.plot(n_list, bound_our_e_l2_list)\n",
    "plt.plot(n_list, bound_shah_list)\n",
    "plt.plot(n_list, l2_beta_list)\n",
    "plt.xlabel('n')\n",
    "plt.ylabel('bound')\n",
    "plt.yscale('log')\n",
    "plt.legend(['kappa','kappa_E','Shah','real'])\n",
    "plt.savefig(\"banded_compare_sqrt.pdf\", bbox_inches = 'tight')"
   ]
  },
  {
   "cell_type": "code",
   "execution_count": 11,
   "metadata": {},
   "outputs": [
    {
     "data": {
      "text/plain": [
       "<matplotlib.legend.Legend at 0x236c0288848>"
      ]
     },
     "execution_count": 11,
     "metadata": {},
     "output_type": "execute_result"
    },
    {
     "data": {
      "image/png": "[encoded data removed]",
      "text/plain": [
       "<Figure size 432x288 with 1 Axes>"
      ]
     },
     "metadata": {
      "needs_background": "light"
     },
     "output_type": "display_data"
    }
   ],
   "source": [
    "plt.plot(n_list, bound_our_e_l2_list)\n",
    "plt.plot(n_list, l2_beta_list)\n",
    "plt.xlabel('n')\n",
    "plt.ylabel('bound')\n",
    "plt.yscale('log')\n",
    "plt.legend(['kappa_E','real'])"
   ]
  },
  {
   "cell_type": "code",
   "execution_count": null,
   "metadata": {},
   "outputs": [],
   "source": []
  }
 ],
 "metadata": {
  "kernelspec": {
   "display_name": "Python 3",
   "language": "python",
   "name": "python3"
  },
  "language_info": {
   "codemirror_mode": {
    "name": "ipython",
    "version": 3
   },
   "file_extension": ".py",
   "mimetype": "text/x-python",
   "name": "python",
   "nbconvert_exporter": "python",
   "pygments_lexer": "ipython3",
   "version": "3.7.4"
  }
 },
 "nbformat": 4,
 "nbformat_minor": 2
}
